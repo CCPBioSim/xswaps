{
 "cells": [
  {
   "cell_type": "markdown",
   "metadata": {},
   "source": [
    "# Analysis of Results\n",
    "\n",
    "As proteinswap runs, it stores all of the free energy differences and gradients necessary to calculate free energies into a file in this directory called `freenrgs.s3`. This is a binary file that can be analysed using the program `analyse_freenrg` which comes with Sire."
   ]
  },
  {
   "cell_type": "code",
   "execution_count": null,
   "metadata": {},
   "outputs": [],
   "source": [
    "! $SIRE/bin/analyse_freenrg -i output/freenrgs.s3"
   ]
  },
  {
   "cell_type": "markdown",
   "metadata": {},
   "source": [
    "The output is the same and is interpreted in the same way as for ligandswap. Here, we see that we have a smooth PMF with good convergence, and with all free energy methods in good agreement.\n",
    "\n",
    "```\n",
    "PMF Plot of free energy versus lambda\n",
    "   │                                                                            \n",
    "   ┼+11.1294                                                   ○○○○             \n",
    "   │                                                        ○○○○   ○○○          \n",
    "   │                                                      ○○          ○○        \n",
    "   │                                                    ○○             ○○       \n",
    "   │                                                   ○                 ○      \n",
    "   │                                                 ○○                   ○     \n",
    "   │                                                ○                     ○     \n",
    "   │                                              ○○                       ○○   \n",
    "   │          ○○○                                ○○                             \n",
    "   │      ○○○○   ○○○○○                         ○○                               \n",
    "   │     ○○          ○○○                      ○○                                \n",
    "   │   ○○              ○○○                  ○○                                  \n",
    "   │  ○○                  ○○○             ○○                                    \n",
    "   │ ○                       ○○○       ○○○                                      \n",
    "   │ ○                          ○○○○○○○                                         \n",
    "   │○                                                                           \n",
    "   ┼+0.24                                                                       \n",
    "───○┼───────────────────────────────────────────────────────────────────────┼───\n",
    "   │ +0.0051                                                              +1    \n",
    "\n",
    "# Free energies \n",
    "# Bennetts = 6.578266930672091 +/- 0.014673283219845637 kcal mol-1#\n",
    "# FEP = 6.411267636133604 +/- 7.48740949216018 kcal mol-1#\n",
    "# TI = 6.9658928680888925 +/- 0.44346740260865136 kcal mol-1 (quadrature = 6.872805678978983 kcal mol-1)#\n",
    "```\n",
    "\n",
    "This shows that proteinswap predicts (correctly) that the R292K mutant is a weaker binder to oseltamivir, with a free energy difference of between 6.5 and 7.0 kcal mol-1."
   ]
  }
 ],
 "metadata": {
  "kernelspec": {
   "display_name": "Python 3",
   "language": "python",
   "name": "python3"
  },
  "language_info": {
   "codemirror_mode": {
    "name": "ipython",
    "version": 3
   },
   "file_extension": ".py",
   "mimetype": "text/x-python",
   "name": "python",
   "nbconvert_exporter": "python",
   "pygments_lexer": "ipython3",
   "version": "3.5.2"
  }
 },
 "nbformat": 4,
 "nbformat_minor": 2
}
