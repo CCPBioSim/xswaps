{
 "cells": [
  {
   "cell_type": "markdown",
   "metadata": {},
   "source": [
    "# Free Energy Components\n",
    "\n",
    "Like ligandswap, proteinswap supports decomposition of the free energy averages into per-residue components. This can be performed for both the residues in the reference (wildtype) protein and the residues in the perturbed (mutant) protein.\n",
    "\n",
    "This means that proteinswap can show you why it makes a particular prediction. If proteinswap suggests that the mutant binds the ligand more weakly, it should show you how this weaker binding relates to loss of interation with different residues in the mutant.\n",
    "\n",
    "The raw data from which we can calculate the free energy components is held in the `results_XXXX.log` files that are produced in the `output` directory produced during a proteinswap simulation. These have a similar format to ligandswap, except now we have two sets of \"RESIDUE FREE ENERGY COMPONENTS\", the first for the reference protein and the second for the perturbed protein. You unpacked some example output in a previous section, into the directory \"output\""
   ]
  },
  {
   "cell_type": "code",
   "execution_count": null,
   "metadata": {},
   "outputs": [],
   "source": [
    "outdir = \"output\""
   ]
  },
  {
   "cell_type": "markdown",
   "metadata": {},
   "source": [
    "There is one `results_XXXX.log` file produced from each iteration of the ligandswap calculation. For example, the file `results_0500.log` contains the results produced from the 500th iteration of the calculation. Take a look at it here;"
   ]
  },
  {
   "cell_type": "code",
   "execution_count": null,
   "metadata": {},
   "outputs": [],
   "source": [
    "!cat output/results_0500.log"
   ]
  },
  {
   "cell_type": "markdown",
   "metadata": {},
   "source": [
    "These values are taken from just one iteration from the simulation. Ideally we should average the components across all iterations that we class as \"production\" (so not discarded as equilibration). We can do this using a simple script.\n",
    "\n",
    "First, we import pandas and matplotlib for data handling and plotting, and then also import the Sire modules we need to calculate averages (in Sire.Maths), identify parts of molecules (in Sire.Mol) and load molecules from files (in Sire.IO)"
   ]
  },
  {
   "cell_type": "code",
   "execution_count": null,
   "metadata": {},
   "outputs": [],
   "source": [
    "import pandas as pd\n",
    "from pandas import Series, DataFrame\n",
    "import matplotlib.pyplot as plt\n",
    "%config InlineBackend.figure_format = 'svg'   # helps make things look better in Jupyter :-)\n",
    "\n",
    "import Sire.Maths\n",
    "import Sire.Mol\n",
    "import Sire.IO"
   ]
  },
  {
   "cell_type": "markdown",
   "metadata": {},
   "source": [
    "Next we set the range of iterations over which we want to average. We will use the last 60% again, so use iterations 400-1000"
   ]
  },
  {
   "cell_type": "code",
   "execution_count": null,
   "metadata": {},
   "outputs": [],
   "source": [
    "r = [400, 1000]"
   ]
  },
  {
   "cell_type": "markdown",
   "metadata": {},
   "source": [
    "We need to process the files from results_0400.log to results_1000.log. The below line generates a list of all of these filenames."
   ]
  },
  {
   "cell_type": "code",
   "execution_count": null,
   "metadata": {},
   "outputs": [],
   "source": [
    "filenames = [\"%s/results_%04d.log\" % (outdir,i) for i in range(r[0],r[1]+1)]"
   ]
  },
  {
   "cell_type": "markdown",
   "metadata": {},
   "source": [
    "The next cell defines a function that reads all of the results files and extracts the average energy components. These are placed into two pandas DataFrames (first for reference, second for perturbed) for easier manipulation later..."
   ]
  },
  {
   "cell_type": "code",
   "execution_count": null,
   "metadata": {},
   "outputs": [],
   "source": [
    "def getComponents(filenames):\n",
    "    \"\"\"Read all of the residue-based free energy components from the log files produced\n",
    "       by a proteinswap simulation (passed as a list of filenames). Return\n",
    "       a tuple of the reference protein and perturbed protein average components as\n",
    "       pandas DataFrames\"\"\"\n",
    "    ref_resids = None\n",
    "    per_resids = None\n",
    "    ref_avgs = {}\n",
    "    per_avgs = {}\n",
    "    resids = None\n",
    "    avgs = None\n",
    "    \n",
    "    # Loop over all of the files...\n",
    "    for filename in filenames:\n",
    "        has_started=False\n",
    "        for line in open(filename).readlines():\n",
    "            # Read from the line \"RESIDUE FREE ENERGY COMPONENTS\" onwards...\n",
    "            if line.find(\"RESIDUE FREE ENERGY COMPONENTS\") != -1:\n",
    "                has_started = True\n",
    "                if not resids is None:\n",
    "                    ref_resids = resids\n",
    "                    ref_avgs = avgs\n",
    "                    \n",
    "                resids = {}\n",
    "                avgs = {}\n",
    "            \n",
    "            elif has_started:\n",
    "                words = line.split()\n",
    "                if len(words) == 8:\n",
    "                    resname = words[1]\n",
    "                    resnum = int(words[3])\n",
    "                    total = float(words[-3])\n",
    "                    coul = float(words[-2])\n",
    "                    lj = float(words[-1])\n",
    "                    key = \"%s:%s\" % (resname,resnum)\n",
    "                    \n",
    "                    if not key in avgs:\n",
    "                        avgs[key] = [Sire.Maths.Average(), Sire.Maths.Average(), Sire.Maths.Average()]\n",
    "                        if not resnum in resids:\n",
    "                            resids[resnum] = [resname]\n",
    "                        else:\n",
    "                            resids[resnum].append(resname)\n",
    "                    \n",
    "                    # accumulate the average total, coulomb and LJ free energies\n",
    "                    avgs[key][0].accumulate(total)\n",
    "                    avgs[key][1].accumulate(coul)\n",
    "                    avgs[key][2].accumulate(lj)\n",
    "                    \n",
    "                elif line.find(\"COMPONENTS\") != -1:\n",
    "                    break\n",
    "    \n",
    "    if ref_resids is None:\n",
    "        ref_resids = resids\n",
    "        ref_avgs = avgs\n",
    "    else:\n",
    "        per_resids = resids\n",
    "        per_avgs = avgs\n",
    "    \n",
    "    frames = []\n",
    "    \n",
    "    for (resids,avgs) in ( (ref_resids,ref_avgs), (per_resids,per_avgs) ):\n",
    "        # Now sort the data into a pandas DataFrame\n",
    "        resnums = list(resids.keys())\n",
    "        resnums.sort()\n",
    "        resnams = []\n",
    "        total = []\n",
    "        coul = []\n",
    "        lj = []\n",
    "    \n",
    "        for resnum in resnums:\n",
    "            for resname in resids[resnum]:\n",
    "                key = \"%s:%s\" % (resname,resnum)\n",
    "                avg = avgs[key]\n",
    "                resnams.append(resname)\n",
    "                total.append(avg[0].average())\n",
    "                coul.append(avg[1].average())\n",
    "                lj.append(avg[2].average())\n",
    "    \n",
    "        # The data is in lists which can be put into pandas columns. We will index the \n",
    "        # DataFrame using the residue number (assuming that they are all unique)\n",
    "        frames.append( DataFrame( index = resnums,\n",
    "                       data = {\"name\" : resnams, \"total\" : total, \"coulomb\" : coul, \"LJ\" : lj},\n",
    "                       columns=[\"name\", \"total\", \"coulomb\", \"LJ\"] ) )\n",
    "    \n",
    "    if len(frames) == 1:\n",
    "        return frames[0]\n",
    "    else:\n",
    "        return (frames[0],frames[1])"
   ]
  },
  {
   "cell_type": "markdown",
   "metadata": {},
   "source": [
    "Now use the above function to process all of the files and generate the pandas DataFrame..."
   ]
  },
  {
   "cell_type": "code",
   "execution_count": null,
   "metadata": {},
   "outputs": [],
   "source": [
    "(wildtype,mutant) = getComponents(filenames)"
   ]
  },
  {
   "cell_type": "markdown",
   "metadata": {},
   "source": [
    "The components are in a pandas DataFrame, so can be manipulated using any of the pandas functions. For example, look at the first few rows using the 'head' function"
   ]
  },
  {
   "cell_type": "code",
   "execution_count": null,
   "metadata": {},
   "outputs": [],
   "source": [
    "wildtype.head(), mutant.head()"
   ]
  },
  {
   "cell_type": "markdown",
   "metadata": {},
   "source": [
    "One thing to note is that the value of the components from the mutant are negative of those in the wildtype. This is because the wildtype components are the free energies to swap the ligand with water, while the mutant components are the free energies to swap the water with the ligand.\n",
    "\n",
    "You can make things easier to understand by taking the negative of the mutant components"
   ]
  },
  {
   "cell_type": "code",
   "execution_count": null,
   "metadata": {},
   "outputs": [],
   "source": [
    "wildtype.head(), mutant.multiply(-1).head()"
   ]
  },
  {
   "cell_type": "markdown",
   "metadata": {},
   "source": [
    "While the first couple of residue components are very similar, you can already see that there are big differences for ARG37 and GLU38 between the wildtype and mutant protein. Let's now combine the two dataframes to find all residues with a significant difference between the wildtype and mutant components"
   ]
  },
  {
   "cell_type": "code",
   "execution_count": null,
   "metadata": {},
   "outputs": [],
   "source": [
    "residues = [ x for x in wildtype.index if x in mutant.total and abs(wildtype.total[x]-mutant.total[x]) > 2 ]"
   ]
  },
  {
   "cell_type": "code",
   "execution_count": null,
   "metadata": {},
   "outputs": [],
   "source": [
    "changed = DataFrame( index=residues, data={\"wildtype\" : [wildtype.total[x] for x in residues],\n",
    "                                           \"mutant\" : [-mutant.total[x] for x in residues]}  )"
   ]
  },
  {
   "cell_type": "markdown",
   "metadata": {},
   "source": [
    "You can even use matplotlib to plot these :-)"
   ]
  },
  {
   "cell_type": "code",
   "execution_count": null,
   "metadata": {},
   "outputs": [],
   "source": [
    "changed.plot.bar()"
   ]
  },
  {
   "cell_type": "markdown",
   "metadata": {},
   "source": [
    "Looking at the above graph, it is clear that we are really interested in the residues for which there has been a significant change in its free energy component. Getting and plotting these differences is simple with pandas :-)"
   ]
  },
  {
   "cell_type": "code",
   "execution_count": null,
   "metadata": {},
   "outputs": [],
   "source": [
    "print(changed.mutant - changed.wildtype)\n",
    "(changed.mutant - changed.wildtype).plot.bar()"
   ]
  },
  {
   "cell_type": "markdown",
   "metadata": {},
   "source": [
    "From this, is it clear that the mutation of residue 212 from arginine to lysine (R292K) has meant that this residue binds more weakly to oseltamivir. This mutation has also affected SER166 (binds the ligand more weakly in the mutant). In contrast, ARG38 binds oseltamivir much more strongly in the mutant.\n",
    "\n",
    "To understand why this is structurally, the next step is to color-code the PDB outputs from proteinswap according to these differences. We will colour-code the reference protein structure here, but you can use the same function to colour-code any structure. For proteinswap, the PDB files for the reference (wildtype) protein are called `bound0_mobile_XXXX_YYYY.pdb`, while the PDB files for the perturbed (mutant) protein are called `bound1_mobile_XXXX_YYYY.pdb`. Here we will load the PDB of the wildtype from iteration 1000 and lambda=0.005"
   ]
  },
  {
   "cell_type": "code",
   "execution_count": null,
   "metadata": {},
   "outputs": [],
   "source": [
    "system = Sire.IO.MoleculeParser.read(\"%s/bound0_mobile_001000_0.00500.pdb\" % outdir)"
   ]
  },
  {
   "cell_type": "markdown",
   "metadata": {},
   "source": [
    "We need to extract the protein... We can do this by finding the first molecule with a residue called \"ALA\""
   ]
  },
  {
   "cell_type": "code",
   "execution_count": null,
   "metadata": {},
   "outputs": [],
   "source": [
    "protein = system[Sire.Mol.MolWithResID(Sire.Mol.ResName(\"ALA\"))]"
   ]
  },
  {
   "cell_type": "markdown",
   "metadata": {},
   "source": [
    "Here is a function that colour-codes the protein based on the passed set of differences"
   ]
  },
  {
   "cell_type": "code",
   "execution_count": null,
   "metadata": {},
   "outputs": [],
   "source": [
    "def colourProtein(protein, data):\n",
    "    \"\"\"Colour-code the passed protein using the difference data contained in the passed dataframe\"\"\"\n",
    "    \n",
    "    # first find the maximum absolute value - we will scale linearly from there\n",
    "    maxval = data.abs().max()\n",
    "    \n",
    "    # now create an AtomFloatProperty that will contain a number for each atom\n",
    "    # in each residue. This will be from 0-100, with 0 representing -maxval, \n",
    "    # 50 representing 0 and 100 representing maxval\n",
    "    betas = Sire.Mol.AtomFloatProperty(protein, 50.0)\n",
    "    \n",
    "    for x in data.index:\n",
    "        resnum = Sire.Mol.ResNum(int(x))\n",
    "        value = data[x]\n",
    "        \n",
    "        scaled = 50.0 + 50.0*(value/maxval)\n",
    "        \n",
    "        # issues with beta mean it must lie between 0 and 99.99\n",
    "        if scaled < 0:\n",
    "            scaled = 0.0\n",
    "        elif scaled > 99.99:\n",
    "            scaled = 99.99\n",
    "            \n",
    "        residue = protein[ resnum ]\n",
    "        \n",
    "        for atom in residue.atoms():\n",
    "            betas.set(atom.cgAtomIdx(), scaled)\n",
    "            \n",
    "    # Set the 'beta_factor' property as this is the name used for the 'beta_factor'\n",
    "    # value by the PDB writer\n",
    "    protein = protein.edit().setProperty(\"beta_factor\", betas).commit()\n",
    "    return protein"
   ]
  },
  {
   "cell_type": "markdown",
   "metadata": {},
   "source": [
    "We will use this function to update the protein by colouring it using the \"beta\" property from the \"total\" free energy components."
   ]
  },
  {
   "cell_type": "code",
   "execution_count": null,
   "metadata": {},
   "outputs": [],
   "source": [
    "protein = colourProtein(protein, changed.wildtype - changed.mutant)"
   ]
  },
  {
   "cell_type": "markdown",
   "metadata": {},
   "source": [
    "Next we update the loaded system with the new, colour-coded version of the protein"
   ]
  },
  {
   "cell_type": "code",
   "execution_count": null,
   "metadata": {},
   "outputs": [],
   "source": [
    "system.update(protein)"
   ]
  },
  {
   "cell_type": "markdown",
   "metadata": {},
   "source": [
    "Finally, we write this system out to a PDB file that you can load into any molecular visualiser"
   ]
  },
  {
   "cell_type": "code",
   "execution_count": null,
   "metadata": {},
   "outputs": [],
   "source": [
    "Sire.IO.MoleculeParser.write(system, \"colourcoded.pdb\")"
   ]
  },
  {
   "cell_type": "markdown",
   "metadata": {},
   "source": [
    "You can now download this PDB file using the Jupyter interface. Load it into a molecular viewer, for example VMD. Select the protein and colour it by beta factor. You should see the residues that contribute strongly to the binding free energy highlighted in the 3D view. For example, here is the view I've made using VMD, and the view when I repeated this color-coding for the mutant protein (bound1_mobile_001000_0.99500.pdb)\n",
    "\n",
    "![Image of color-coded wildtype](images/wildtype.jpg)![Image of color-coded mutant](images/mutant.jpg)\n",
    "\n",
    "Note that the selection I used to highlight only the important residues was;\n",
    "\n",
    "```\n",
    "noh and protein and not name O N and (beta > 52 or beta < 48)\n",
    "```\n",
    "\n",
    "(this used the fact that beta=50 meant no significant difference, while beta > 52 or beta < 48 were significant)\n",
    "\n",
    "From the view we can infer that the mutation has weakened binding to between the ligand and the residues to the left (including the R292K). This is unsurprising, as lysine is a smaller residue than arginine, and so it is not able to reach to oseltamivir and bind as well. Conversely, oseltamivir compensates by binding more strongly to the residue on the right (ARG38). The increased binding to ARG38 is not enough to compensate for the loss to ARG212 and SER166, and so the mutant binds oseltamivir more weakly, and is thus drug-resistant. This suggests that, to overcome resistance, the oseltamivir needs to be made slightly larger so that it can reach the smaller LYS212, while still having a stronger interaction with ARG38."
   ]
  }
 ],
 "metadata": {
  "kernelspec": {
   "display_name": "Python 3",
   "language": "python",
   "name": "python3"
  },
  "language_info": {
   "codemirror_mode": {
    "name": "ipython",
    "version": 3
   },
   "file_extension": ".py",
   "mimetype": "text/x-python",
   "name": "python",
   "nbconvert_exporter": "python",
   "pygments_lexer": "ipython3",
   "version": "3.5.2"
  }
 },
 "nbformat": 4,
 "nbformat_minor": 2
}
