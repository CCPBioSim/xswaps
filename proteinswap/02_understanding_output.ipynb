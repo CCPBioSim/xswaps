{
 "cells": [
  {
   "cell_type": "markdown",
   "metadata": {},
   "source": [
    "# Understanding the output of ProteinSwap\n",
    "\n",
    "proteinswap is fully automatic. This means that you don’t need to do anything to get the calculation to run. However, proteinswap will print a lot of output to let you know what it is doing, and to give you a chance to check that everything is ok.\n",
    "\n",
    "The output from proteinswap is very similar to ligandswap, so if you are happy with ligandswap then proteinswap should make sense.\n",
    "\n",
    "Execute the cell below to see example output from a proteinswap simulation"
   ]
  },
  {
   "cell_type": "code",
   "execution_count": null,
   "metadata": {},
   "outputs": [],
   "source": [
    "! cat runsim.log"
   ]
  },
  {
   "cell_type": "markdown",
   "metadata": {},
   "source": [
    "Like ligandswap, you can pass in extra configuration options via an optional config file. You can see the options available and their default values using the `--help-config` option"
   ]
  },
  {
   "cell_type": "code",
   "execution_count": null,
   "metadata": {},
   "outputs": [],
   "source": [
    "! $SIRE/bin/proteinswap --help-config"
   ]
  }
 ],
 "metadata": {
  "kernelspec": {
   "display_name": "Python 3",
   "language": "python",
   "name": "python3"
  },
  "language_info": {
   "codemirror_mode": {
    "name": "ipython",
    "version": 3
   },
   "file_extension": ".py",
   "mimetype": "text/x-python",
   "name": "python",
   "nbconvert_exporter": "python",
   "pygments_lexer": "ipython3",
   "version": "3.5.3"
  }
 },
 "nbformat": 4,
 "nbformat_minor": 2
}
