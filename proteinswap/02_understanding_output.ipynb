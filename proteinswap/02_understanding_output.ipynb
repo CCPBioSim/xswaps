{
 "cells": [
  {
   "cell_type": "markdown",
   "metadata": {},
   "source": [
    "# Understanding the output of ProteinSwap\n",
    "\n",
    "proteinswap is fully automatic. This means that you don’t need to do anything to get the calculation to run. However, proteinswap will print a lot of output to let you know what it is doing, and to give you a chance to check that everything is ok.\n",
    "\n",
    "The output from proteinswap is very similar to ligandswap, so if you are happy with ligandswap then proteinswap should make sense.\n",
    "\n",
    "Because proteinswap calculations take a long time, we have provided some example output for you from this simulation. This is in example_output.tar.bz2 and can be unpacked using the cell below."
   ]
  },
  {
   "cell_type": "code",
   "execution_count": null,
   "metadata": {},
   "outputs": [],
   "source": [
    "! tar -jxvf example_output.tar.bz2"
   ]
  },
  {
   "cell_type": "markdown",
   "metadata": {},
   "source": [
    "The output printed when the simulation is running has been captured to a file called `runsim.log`. Take a look at it in the cell below."
   ]
  },
  {
   "cell_type": "code",
   "execution_count": null,
   "metadata": {},
   "outputs": [],
   "source": [
    "! cat runsim.log"
   ]
  },
  {
   "cell_type": "markdown",
   "metadata": {},
   "source": [
    "The output is almost identical to ligandswap. The differences relate to proteinswap loading up two protein-ligand complexes rather than one, with the same ligand present in both."
   ]
  },
  {
   "cell_type": "markdown",
   "metadata": {},
   "source": [
    "Like ligandswap, you can pass in extra configuration options via an optional config file. You can see the options available and their default values using the `--help-config` option"
   ]
  },
  {
   "cell_type": "code",
   "execution_count": null,
   "metadata": {},
   "outputs": [],
   "source": [
    "! $SIRE/bin/proteinswap --help-config"
   ]
  }
 ],
 "metadata": {
  "kernelspec": {
   "display_name": "Python 3",
   "language": "python",
   "name": "python3"
  },
  "language_info": {
   "codemirror_mode": {
    "name": "ipython",
    "version": 3
   },
   "file_extension": ".py",
   "mimetype": "text/x-python",
   "name": "python",
   "nbconvert_exporter": "python",
   "pygments_lexer": "ipython3",
   "version": "3.5.2"
  }
 },
 "nbformat": 4,
 "nbformat_minor": 2
}
