{
 "cells": [
  {
   "cell_type": "markdown",
   "metadata": {},
   "source": [
    "# Using ProteinSwap to Investigate Mutation\n",
    "\n",
    "ProteinSwap is very similar to LigandSwap. The simulation swaps a single ligand between two different proteins. This gives a free energy that indicates which protein binds the ligand most strongly. This is useful to investigate the effect of mutation. For example, you could swap a ligand between the wildtype and mutant protein. If the proteinswap free energy is negative, this indicates that the mutant binds the ligand more strongly. If the proteinswap free energy is positive, then this indicates that the mutant binds the ligand more weakly, and is therefore potentially resistant to that ligand. \n",
    "\n",
    "Like ligandswap, proteinswap is distributed as part of Sire. The program is found in the `$SIRE/bin` directory, assuming that `$SIRE` has been set to the directory in which Sire is installed. This notebook relies on the proteinswap that comes with version 2018.1 or later of Sire.\n",
    "\n",
    "You use proteinswap in a similar way to ligandswap. Like ligandswap, proteinswap comes with detailed help via `--help` and `--help-config`."
   ]
  },
  {
   "cell_type": "code",
   "execution_count": null,
   "metadata": {},
   "outputs": [],
   "source": [
    "! $SIRE/bin/proteinswap --help"
   ]
  },
  {
   "cell_type": "markdown",
   "metadata": {},
   "source": [
    "## Understanding the input\n",
    "\n",
    "Proteinswap calculates the relative binding free energy of a single ligand to the two different proteins (the reference and perturbed proteins). As input it needs;\n",
    "\n",
    "* An amber-format topology file and coordinate file for the ligand bound to the reference protein, in a cubic periodic box of water.\n",
    "* An amber-format topology file and coordinate file containing the same ligand bound to the perturbed protein, in a cubic periodic box of water.\n",
    "* Optionally A configuration file that overrides the default parameters for the proteinswap calculation.\n",
    "\n",
    "The proteinswap directory that comes with this notebook contains all of the files that are needed to calculate the relative free energy of the ligand oseltamivir binding to the wildtype and R292K mutant of the protein neuraminidase.\n",
    "\n",
    "The files in this directory that are needed for proteinswap are;\n",
    "\n",
    "* An amber-format topology (OWT.top) and coordinate file (OWT.rst7) of oseltamivir (called OSE) bound to wildtype neuraminidase\n",
    "\n",
    "* An amber-format topology (OR2K.top) and coordinate file (OR2K.rst7) of oseltamivir (also called OSE) bound to teh R292K mutant of neuraminidase\n",
    "\n",
    "As before, these input files are compressed to save disk space. Unpack them now and take a look..."
   ]
  },
  {
   "cell_type": "code",
   "execution_count": null,
   "metadata": {},
   "outputs": [],
   "source": [
    "! bunzip2 -k *.rst7.bz2 *.top.bz2; ls"
   ]
  },
  {
   "cell_type": "markdown",
   "metadata": {},
   "source": [
    "Here is oseltamivir bound to wildtype neuraminidase...\n",
    "\n",
    "Use the \"Representations\" panel to show the protein in a cartoon representation and the ligand (OSE) as licorice. Also show the residue that will be mutated (212) in licorice."
   ]
  },
  {
   "cell_type": "code",
   "execution_count": null,
   "metadata": {},
   "outputs": [],
   "source": [
    "from BioSimSpace import viewMolecules\n",
    "v1 = viewMolecules([\"OWT.top\",\"OWT.rst7\"], [0,1])"
   ]
  },
  {
   "cell_type": "markdown",
   "metadata": {},
   "source": [
    "Now do the same for oseltamivir bound to the mutant (R212K) neuraminidase..."
   ]
  },
  {
   "cell_type": "code",
   "execution_count": null,
   "metadata": {},
   "outputs": [],
   "source": [
    "v2 = viewMolecules([\"OR2K.top\",\"OR2K.rst7\"],[0,1])"
   ]
  },
  {
   "cell_type": "markdown",
   "metadata": {},
   "source": [
    "Can you see the difference in structure between the wildtype and mutant? Personally, I find it amazing that such small changes can lead to loss of efficacy of a drug while still retaining functionality for the enzyme. How to understand and to try to predict this is, in my opinion, a grand challenge for medicinal chemistry and biomolecular simulation."
   ]
  },
  {
   "cell_type": "markdown",
   "metadata": {},
   "source": [
    "## Running a ProteinSwap Calculation\n",
    "\n",
    "The general way to run a proteinswap calculation is by typing;\n",
    "\n",
    "```\n",
    "$SIRE/bin/proteinswap -t0 reference.top -c0 reference.crd -t1 perturbed.top -c1 perturbed.crd -l NAME -C config\n",
    "```\n",
    "\n",
    "where\n",
    "\n",
    "* reference.top is the name of the topology file containing the reference protein bound to the ligand in a periodic cubic box of water\n",
    "* reference.crd is the corresponding coordinate file to reference.top\n",
    "* perturbed.top is the name of the topology file containing the perturned protein bound to the ligand in a periodic cubic box of water\n",
    "* perturbed.crd is the corresponding coordinate file to perturbed.crd\n",
    "* NAME is the residue name of one of the residues in the ligand. Note that only one molecule in reference.top and perturbed.top should have this name.\n",
    "* config is the name of the (optional) config file to control proteinswap.\n",
    "\n",
    "In our case, we could run a proteinswap calculation using the following command;"
   ]
  },
  {
   "cell_type": "code",
   "execution_count": null,
   "metadata": {},
   "outputs": [],
   "source": [
    "! $SIRE/bin/proteinswap -t0 OWT.top -c0 OWT.rst7 -t1 OR2K.top -c1 OR2K.rst7 -l OSE"
   ]
  },
  {
   "cell_type": "markdown",
   "metadata": {},
   "source": [
    "## WARNING\n",
    "\n",
    "The above command will take *a really long time (days)* and uses a lot of memory (>4 GB). If you are running this notebook in the cloud then the proteinswap calculation will likely be killed. For the purposes of this workshop kill the proteinswap calculation yourself by clicking \"Kernel | Interupt\" in the menu at the top."
   ]
  }
 ],
 "metadata": {
  "kernelspec": {
   "display_name": "Python 3",
   "language": "python",
   "name": "python3"
  },
  "language_info": {
   "codemirror_mode": {
    "name": "ipython",
    "version": 3
   },
   "file_extension": ".py",
   "mimetype": "text/x-python",
   "name": "python",
   "nbconvert_exporter": "python",
   "pygments_lexer": "ipython3",
   "version": "3.5.2"
  }
 },
 "nbformat": 4,
 "nbformat_minor": 2
}
