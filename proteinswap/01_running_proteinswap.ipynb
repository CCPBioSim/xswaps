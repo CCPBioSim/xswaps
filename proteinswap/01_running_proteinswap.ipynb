{
 "cells": [
  {
   "cell_type": "markdown",
   "metadata": {},
   "source": [
    "# Using ProteinSwap to Investigate Mutation\n",
    "\n",
    "ProteinSwap is very similar to LigandSwap. The simulation swaps a single ligand between two different proteins. This gives a free energy that indicates which protein binds the ligand most strongly. This is useful to investigate the effect of mutation. For example, you could swap a ligand between the wildtype and mutant protein. If the proteinswap free energy is negative, this indicates that the mutant binds the ligand more strongly. If the proteinswap free energy is positive, then this indicates that the mutant binds the ligand more weakly, and is therefore potentially resistant to that ligand. \n",
    "\n",
    "Like ligandswap, proteinswap is distributed as part of Sire. The program is found in the `$SIRE/bin` directory, assuming that `$SIRE` has been set to the directory in which Sire is installed. This notebook relies on the proteinswap that comes with version 2018.1 or later of Sire.\n",
    "\n",
    "You use proteinswap in a similar way to ligandswap. Like ligandswap, proteinswap comes with detailed help via `--help` and `--help-config`."
   ]
  },
  {
   "cell_type": "code",
   "execution_count": 1,
   "metadata": {},
   "outputs": [
    {
     "name": "stdout",
     "output_type": "stream",
     "text": [
      "Starting /opt/conda/bin/proteinswap: number of threads equals 2\n",
      "\n",
      "usage: proteinswap [-h] [--description] [-H] [--author] [--version]\n",
      "                   [-l [LIGAND]] [-t0 [TOPOLOGY_FILE0]] [-t1 [TOPOLOGY_FILE1]]\n",
      "                   [-c0 [COORDINATE_FILE0]] [-c1 [COORDINATE_FILE1]]\n",
      "                   [-C [CONFIG]]\n",
      "                   [--lambda_values LAMBDA_VALUES [LAMBDA_VALUES ...]]\n",
      "                   [-n [NUM_ITERATIONS]]\n",
      "\n",
      "Calculate relative binding free energies using proteinswap\n",
      "\n",
      "optional arguments:\n",
      "  -h, --help            show this help message and exit\n",
      "  --description         Print a complete description of this program.\n",
      "  -H, --help-config     Get additional help regarding all of the parameters\n",
      "                        (and their default values) that can be set in the\n",
      "                        optionally-supplied CONFIG file\n",
      "  --author              Get information about the authors of this script.\n",
      "  --version             Get version information about this script.\n",
      "  -l [LIGAND], --ligand [LIGAND]\n",
      "                        Supply the name of one of the residues in the ligand\n",
      "                        whose binding free energy is to be calculated. By\n",
      "                        default, the ligand will be the first non-protein,\n",
      "                        non-solvent molecule in the input topology file.\n",
      "                        proteinswap calculates the relative binding free\n",
      "                        energy of this ligand to the two proteins.\n",
      "  -t0 [TOPOLOGY_FILE0], --topology_file0 [TOPOLOGY_FILE0]\n",
      "                        The Amber topology file containing the solvated,\n",
      "                        equilbrated protein0-ligand complex.\n",
      "  -t1 [TOPOLOGY_FILE1], --topology_file1 [TOPOLOGY_FILE1]\n",
      "                        The Amber topology file containing the solvated,\n",
      "                        equilbrated protein1-ligand complex.\n",
      "  -c0 [COORDINATE_FILE0], --coordinate_file0 [COORDINATE_FILE0]\n",
      "                        The Amber coordinate file (with periodic box) giving\n",
      "                        the coordinates of all of the atoms in the passed\n",
      "                        topology file of the protein0-ligand complex.\n",
      "  -c1 [COORDINATE_FILE1], --coordinate_file1 [COORDINATE_FILE1]\n",
      "                        The Amber coordinate file (with periodic box) giving\n",
      "                        the coordinates of all of the atoms in the passed\n",
      "                        topology file of the protein1-ligand complex.\n",
      "  -C [CONFIG], --config [CONFIG]\n",
      "                        Supply an optional CONFIG file to control the\n",
      "                        calculation.\n",
      "  --lambda_values LAMBDA_VALUES [LAMBDA_VALUES ...]\n",
      "                        Lambda values for the windows used in the free energy\n",
      "                        calculation\n",
      "  -n [NUM_ITERATIONS], --num_iterations [NUM_ITERATIONS]\n",
      "                        The number of waterswap iterations to perform (default\n",
      "                        1000)\n",
      "\n",
      "proteinswap is built using Sire and is distributed under the GPL. For more\n",
      "information please visit http://siremol.org/proteinswap\n"
     ]
    }
   ],
   "source": [
    "! $SIRE/bin/proteinswap --help"
   ]
  },
  {
   "cell_type": "markdown",
   "metadata": {},
   "source": [
    "## Understanding the input\n",
    "\n",
    "Proteinswap calculates the relative binding free energy of a single ligand to the two different proteins (the reference and perturbed proteins). As input it needs;\n",
    "\n",
    "* An amber-format topology file and coordinate file for the ligand bound to the reference protein, in a cubic periodic box of water.\n",
    "* An amber-format topology file and coordinate file containing the same ligand bound to the perturbed protein, in a cubic periodic box of water.\n",
    "* Optionally A configuration file that overrides the default parameters for the proteinswap calculation.\n",
    "\n",
    "The proteinswap directory that comes with this notebook contains all of the files that are needed to calculate the relative free energy of the ligand oseltamivir binding to the wildtype and R292K mutant of the protein neuraminidase.\n",
    "\n",
    "The files in this directory that are needed for proteinswap are;\n",
    "\n",
    "* An amber-format topology (OWT.top) and coordinate file (OWT.rst7) of oseltamivir (called OSE) bound to wildtype neuraminidase\n",
    "\n",
    "* An amber-format topology (OR2K.top) and coordinate file (OR2K.rst7) of oseltamivir (also called OSE) bound to teh R292K mutant of neuraminidase\n",
    "\n",
    "As before, these input files are compressed to save disk space. Unpack them now and take a look..."
   ]
  },
  {
   "cell_type": "code",
   "execution_count": 2,
   "metadata": {},
   "outputs": [
    {
     "name": "stdout",
     "output_type": "stream",
     "text": [
      "01_running_proteinswap.ipynb   images\t      OWT.rst7.bz2\r\n",
      "02_understanding_output.ipynb  OR2K.rst7      OWT.top\r\n",
      "03_analysis.ipynb\t       OR2K.rst7.bz2  OWT.top.bz2\r\n",
      "04_interactive_analysis.ipynb  OR2K.top       README.md\r\n",
      "05_components.ipynb\t       OR2K.top.bz2\r\n",
      "example_output.tar.bz2\t       OWT.rst7\r\n"
     ]
    }
   ],
   "source": [
    "! bunzip2 -k *.rst7.bz2 *.top.bz2; ls"
   ]
  },
  {
   "cell_type": "markdown",
   "metadata": {},
   "source": [
    "## Running a ProteinSwap Calculation\n",
    "\n",
    "The general way to run a proteinswap calculation is by typing;\n",
    "\n",
    "```\n",
    "$SIRE/bin/proteinswap -t0 reference.top -c0 reference.crd -t1 perturbed.top -c1 perturbed.crd -l NAME -C config\n",
    "```\n",
    "\n",
    "where\n",
    "\n",
    "* reference.top is the name of the topology file containing the reference protein bound to the ligand in a periodic cubic box of water\n",
    "* reference.crd is the corresponding coordinate file to reference.top\n",
    "* perturbed.top is the name of the topology file containing the perturned protein bound to the ligand in a periodic cubic box of water\n",
    "* perturbed.crd is the corresponding coordinate file to perturbed.crd\n",
    "* NAME is the residue name of one of the residues in the ligand. Note that only one molecule in reference.top and perturbed.top should have this name.\n",
    "* config is the name of the (optional) config file to control proteinswap.\n",
    "\n",
    "In our case, we could run a proteinswap calculation using the following command;"
   ]
  },
  {
   "cell_type": "code",
   "execution_count": null,
   "metadata": {},
   "outputs": [],
   "source": [
    "! $SIRE/bin/proteinswap -t0 OWT.top -c0 OWT.rst7 -t1 OR2K.top -c1 OR2K.rst7 -l OSE"
   ]
  },
  {
   "cell_type": "markdown",
   "metadata": {},
   "source": [
    "## WARNING\n",
    "\n",
    "The above command will take *a really long time (days)* and uses a lot of memory (>4 GB). If you are running this notebook in the cloud then the proteinswap calculation will likely be killed. For the purposes of this workshop kill the proteinswap calculation yourself by clicking \"Kernel | Interupt\" in the menu at the top."
   ]
  },
  {
   "cell_type": "code",
   "execution_count": null,
   "metadata": {},
   "outputs": [],
   "source": []
  }
 ],
 "metadata": {
  "kernelspec": {
   "display_name": "Python 3",
   "language": "python",
   "name": "python3"
  },
  "language_info": {
   "codemirror_mode": {
    "name": "ipython",
    "version": 3
   },
   "file_extension": ".py",
   "mimetype": "text/x-python",
   "name": "python",
   "nbconvert_exporter": "python",
   "pygments_lexer": "ipython3",
   "version": "3.5.2"
  }
 },
 "nbformat": 4,
 "nbformat_minor": 2
}
