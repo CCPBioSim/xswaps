{
 "cells": [
  {
   "cell_type": "markdown",
   "metadata": {},
   "source": [
    "# Deep Dive: What is analyse_freenrg doing?\n",
    "\n",
    "The freenrgs.s3 file produced by waterswap is in the same format as for ligandswap and proteinswap. This means that, just like for ligandswap, you can write your own scripts to investigate the free energy prediction more closely.\n",
    "\n",
    "To do this, we need to import the `Sire.Stream` module, which reads `.s3` files, and also pandas and MatplotLib so that we can draw some graphs :-)"
   ]
  },
  {
   "cell_type": "code",
   "execution_count": null,
   "metadata": {},
   "outputs": [],
   "source": [
    "import pandas as pd\n",
    "from pandas import Series, DataFrame\n",
    "import matplotlib.pyplot as plt\n",
    "%config InlineBackend.figure_format = 'svg'   # helps make things look better in Jupyter :-)\n",
    "\n",
    "import Sire.Stream"
   ]
  },
  {
   "cell_type": "markdown",
   "metadata": {},
   "source": [
    "`Sire.Stream.read` will read all of the Python objects that are contained in a `.s3` file. The `freenrgs.s3` file contains three objects:\n",
    "\n",
    "* bennetts - the object containing all of the data needed for a Bennetts calculation of the free energy\n",
    "* fep - the object containing all of the data needed for a FEP calculation of the free energy\n",
    "* ti - the object containing all of the data needed for a TI calculation of the free energy\n",
    "\n",
    "We can load this into the notebook by using"
   ]
  },
  {
   "cell_type": "code",
   "execution_count": null,
   "metadata": {},
   "outputs": [],
   "source": [
    "(bennetts, fep, ti) = Sire.Stream.load(\"output/freenrgs.s3\")"
   ]
  },
  {
   "cell_type": "markdown",
   "metadata": {},
   "source": [
    "Here is the function to plot a PMF using Matplotlib"
   ]
  },
  {
   "cell_type": "code",
   "execution_count": null,
   "metadata": {},
   "outputs": [],
   "source": [
    "def plotPMF(pmf):\n",
    "    x = [point.x() for point in pmf.values()]\n",
    "    y = [point.y() for point in pmf.values()]\n",
    "    d = DataFrame( index=x, data={\"free energy\":y} )\n",
    "    d.plot()"
   ]
  },
  {
   "cell_type": "markdown",
   "metadata": {},
   "source": [
    "And here are the PMFs plotted by merging together iterations 400-1000 for each method"
   ]
  },
  {
   "cell_type": "code",
   "execution_count": null,
   "metadata": {},
   "outputs": [],
   "source": [
    "plotPMF( bennetts.merge(400,1000).sum() )"
   ]
  },
  {
   "cell_type": "code",
   "execution_count": null,
   "metadata": {},
   "outputs": [],
   "source": [
    "plotPMF( fep.merge(400,1000).sum() )"
   ]
  },
  {
   "cell_type": "code",
   "execution_count": null,
   "metadata": {},
   "outputs": [],
   "source": [
    "plotPMF( ti.merge(400,1000).integrate() )"
   ]
  },
  {
   "cell_type": "markdown",
   "metadata": {},
   "source": [
    "As for ligandswap, you can check your assumption to discard the first 40% of iterations as equilibration by plotting convergence."
   ]
  },
  {
   "cell_type": "code",
   "execution_count": null,
   "metadata": {},
   "outputs": [],
   "source": [
    "def plotConvergence(data):\n",
    "    x = [i for i in range(1,1001)]\n",
    "    b = [data[i].sum().values()[-1].y() for i in range(1,1001)]\n",
    "    d = DataFrame( index=x, data={\"free energy\":b} )\n",
    "    d.plot()\n",
    "    \n",
    "plotConvergence(bennetts)"
   ]
  },
  {
   "cell_type": "markdown",
   "metadata": {},
   "source": [
    "You can also work out your own method of combining together the different predictions into a single number. Like ligandswap, I prefer a linear or weighted average of FEP, TI and Bennetts is acceptable, e.g. `0.5 * bennetts + 0.3 * TI + 0.2 * FEP` (with those numbers based on my personal relative feeling of how much I trust each method). The error should be the spread between the different methods, e.g."
   ]
  },
  {
   "cell_type": "code",
   "execution_count": null,
   "metadata": {},
   "outputs": [],
   "source": [
    "b = bennetts.merge(400,1000).sum().values()[-1].y()\n",
    "f = fep.merge(400,1000).sum().values()[-1].y()\n",
    "t = ti.merge(400,1000).integrate().values()[-1].y()\n",
    "\n",
    "average = 0.5*b + 0.3*f + 0.2*t\n",
    "error = 0.5 * (max(f,max(b,t))-min(f,min(b,t)))\n",
    "\n",
    "print(\"Bennetts = %s, FEP = %s, TI = %s\" % (b,f,t))\n",
    "print(\"Result is %s +/- %s kcal mol-1\" % (average,error))"
   ]
  },
  {
   "cell_type": "markdown",
   "metadata": {},
   "source": [
    "So, for the above, I would round to 0 decimal places and report the result as 33 +/- 3 kcal mol-1 (I tend to round up errors)\n",
    "\n",
    "The error is larger than for ligandswap because this is a larger free energy change. One default swap water cluster was, perhaps, too large as well, as there were too many water molecules to fit into the volume of the ligand. One way to reduce the error would be to reduce the number of swapped water molecules by choosing identity points manually to distribute them across the ligand, and then visualising the `swapcluster01.pdb` file to ensure that the water molecules fit nicely under the ligand."
   ]
  }
 ],
 "metadata": {
  "kernelspec": {
   "display_name": "Python 3",
   "language": "python",
   "name": "python3"
  },
  "language_info": {
   "codemirror_mode": {
    "name": "ipython",
    "version": 3
   },
   "file_extension": ".py",
   "mimetype": "text/x-python",
   "name": "python",
   "nbconvert_exporter": "python",
   "pygments_lexer": "ipython3",
   "version": "3.5.2"
  }
 },
 "nbformat": 4,
 "nbformat_minor": 2
}
