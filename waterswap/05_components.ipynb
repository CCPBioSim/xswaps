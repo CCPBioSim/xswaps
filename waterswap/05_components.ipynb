{
 "cells": [
  {
   "cell_type": "markdown",
   "metadata": {},
   "source": [
    "# Free Energy Components\n",
    "\n",
    "Like ligandswap, one of the major advantages of waterswap over other absolute binding free energy methods is that it supports decomposition of the free energy averages into per-residue components. How it does this is [described in detail here](http://dx.doi.org/10.1039/c3fd00125c).\n",
    "\n",
    "What does this mean? Well, it means that waterswap can give you an indication of which residues contribute most to the binding of the ligand to the protein. More subtlely, it reveals which residues the calculation showed as binding more strongly to the ligand, and which bound more strongly to the water.\n",
    "\n",
    "The raw data from which we can calculate the free energy components is held in the `results_XXXX.log` files that are produced in the `output` directory produced during a waterswap simulation. We unpacked some example output into the directory `output`"
   ]
  },
  {
   "cell_type": "code",
   "execution_count": null,
   "metadata": {},
   "outputs": [],
   "source": [
    "outdir = \"output\""
   ]
  },
  {
   "cell_type": "markdown",
   "metadata": {},
   "source": [
    "There is one `results_XXXX.log` file produced from each iteration of the waterswap calculation. For example, the file `results_0500.log` contains the results produced from the 500th iteration of the calculation. Take a look at it here;"
   ]
  },
  {
   "cell_type": "code",
   "execution_count": null,
   "metadata": {},
   "outputs": [],
   "source": [
    "! cat output/results_0500.log"
   ]
  },
  {
   "cell_type": "markdown",
   "metadata": {},
   "source": [
    "The file starts with the free energy calculated from the sampling performed at that iteration, e.g.\n",
    "\n",
    "```\n",
    "TOTAL BINDING FREE ENERGY\n",
    "\n",
    "TOTAL   BOUND    FREE\n",
    "-33.146761144427906   -62.042406366040375   27.86135212442684\n",
    "```\n",
    "\n",
    "This splits the total free energy into the contribution from the protein box (\"BOUND\") and the contribution from the water box (\"FREE\"). In this case it shows that most of the free energy (-62 kcal mol-1) comes from a preference of the protein for the ligand over water. This is larger than the 28 kcal mol-1 preference of bulk water for the ligand over the swapped water. This implies that the ligand is very soluble, but it binds much more strongly to the protein than to bulk water. This is unsurprising, as the ligand is zwitterionic (has two charges), and so is both highly soluble and well-suited to the highly charged binding site of the protein.\n",
    "\n",
    "The above number can be useful as it will highlight when a ligand binds only because it is insoluble, and so is seeking shelter in a hydrophobic binding site. For these cases, the \"BOUND\" component would be negative (protein prefers the ligand), while the \"FREE\" component would be negative, and larger than the \"BOUND\" component (water significantly prefers water, and doesn't want to solvate the ligand).\n",
    "\n",
    "After the \"BOUND\" and \"FREE\" components, you can see free energy components for all of the residues that were within 15 A of the ligand, e.g.\n",
    "\n",
    "```\n",
    "RESIDUE FREE ENERGY COMPONENTS\n",
    "\n",
    "RESIDUE    TOTAL    COULOMB    LJ\n",
    "Residue( VAL : 35 )  -0.16535165766352544  -0.16085920425914235  -0.004492451120687602\n",
    "Residue( ILE : 36 )  0.3878332703164674  0.40076901074697097  -0.012935740297036945\n",
    "Residue( ARG : 37 )  -2.503970191431942  4.726547180906718  -7.2192015044114495\n",
    "Residue( GLU : 38 )  -3.7762095801871554  -22.938939884560835  19.230661665228936\n",
    "```\n",
    "\n",
    "Positive values show that the residue binds more strongly to water, while negative values show that the residue binds more strongly to the ligand.\n",
    "\n",
    "In this case, you can see that the charged ARG37 and GLU38 residues strongly prefer the ligand (by 2.5 and 3.8 kcal mol-1 respectively). For GLU38 this comes from a -23 kcal mol-1 electrostatic preference for the ligand, balanced by a +19 kcal mol-1 VDW preference for water. For ARG37 this is from a +4.7 kcal mol-1 preference for water which is overcome by a -7.2 kcal mol-1 preference for the ligand.\n",
    "\n",
    "These values are taken from just one iteration from the simulation. Ideally we should average the components across all iterations that we class as \"production\" (so not discarded as equilibration). We can do this using a simple script.\n",
    "\n",
    "First, we import pandas and matplotlib for data handling and plotting, and then also import the Sire modules we need to calculate averages (in Sire.Maths), identify parts of molecules (in Sire.Mol) and load molecules from files (in Sire.IO)"
   ]
  },
  {
   "cell_type": "code",
   "execution_count": null,
   "metadata": {},
   "outputs": [],
   "source": [
    "import pandas as pd\n",
    "from pandas import Series, DataFrame\n",
    "import matplotlib.pyplot as plt\n",
    "%config InlineBackend.figure_format = 'svg'   # helps make things look better in Jupyter :-)\n",
    "\n",
    "import Sire.Maths\n",
    "import Sire.Mol\n",
    "import Sire.IO"
   ]
  },
  {
   "cell_type": "markdown",
   "metadata": {},
   "source": [
    "Next we set the range of iterations over which we want to average. We will use the last 60% again, so use iterations 400-1000"
   ]
  },
  {
   "cell_type": "code",
   "execution_count": null,
   "metadata": {},
   "outputs": [],
   "source": [
    "r = [400, 1000]"
   ]
  },
  {
   "cell_type": "markdown",
   "metadata": {},
   "source": [
    "We need to process the files from results_0400.log to results_1000.log. The below line generates a list of all of these filenames."
   ]
  },
  {
   "cell_type": "code",
   "execution_count": null,
   "metadata": {},
   "outputs": [],
   "source": [
    "filenames = [\"%s/results_%04d.log\" % (outdir,i) for i in range(r[0],r[1]+1)]"
   ]
  },
  {
   "cell_type": "markdown",
   "metadata": {},
   "source": [
    "The next cell defines a function that reads all of the results files and extracts the average energy components. These are placed into a pandas DataFrame for easier manipulation later..."
   ]
  },
  {
   "cell_type": "code",
   "execution_count": null,
   "metadata": {},
   "outputs": [],
   "source": [
    "def getComponents(filenames):\n",
    "    \"\"\"Read all of the residue-based free energy components from the log files produced\n",
    "       by a waterswap or ligandswap simulation (passed as a list of filenames). Return\n",
    "       the average components as a pandas DataFrame\"\"\"\n",
    "    avgs = {}\n",
    "    resids = {}\n",
    "    \n",
    "    # Loop over all of the files...\n",
    "    for filename in filenames:\n",
    "        has_started=False\n",
    "        for line in open(filename).readlines():\n",
    "            # Read from the line \"RESIDUE FREE ENERGY COMPONENTS\" onwards...\n",
    "            if line.find(\"RESIDUE FREE ENERGY COMPONENTS\") != -1:\n",
    "                has_started = True\n",
    "            \n",
    "            elif has_started:\n",
    "                words = line.split()\n",
    "                if len(words) == 8:\n",
    "                    resname = words[1]\n",
    "                    resnum = int(words[3])\n",
    "                    total = float(words[-3])\n",
    "                    coul = float(words[-2])\n",
    "                    lj = float(words[-1])\n",
    "                    key = \"%s:%s\" % (resname,resnum)\n",
    "                    \n",
    "                    if not key in avgs:\n",
    "                        avgs[key] = [Sire.Maths.Average(), Sire.Maths.Average(), Sire.Maths.Average()]\n",
    "                        if not resnum in resids:\n",
    "                            resids[resnum] = [resname]\n",
    "                        else:\n",
    "                            resids[resnum].append(resname)\n",
    "                    \n",
    "                    # accumulate the average total, coulomb and LJ free energies\n",
    "                    avgs[key][0].accumulate(total)\n",
    "                    avgs[key][1].accumulate(coul)\n",
    "                    avgs[key][2].accumulate(lj)\n",
    "                    \n",
    "                elif line.find(\"COMPONENTS\") != -1:\n",
    "                    break\n",
    "    \n",
    "    # Now sort the data into a pandas DataFrame\n",
    "    resnums = list(resids.keys())\n",
    "    resnums.sort()\n",
    "    resnams = []\n",
    "    total = []\n",
    "    coul = []\n",
    "    lj = []\n",
    "    \n",
    "    for resnum in resnums:\n",
    "        for resname in resids[resnum]:\n",
    "            key = \"%s:%s\" % (resname,resnum)\n",
    "            avg = avgs[key]\n",
    "            resnams.append(resname)\n",
    "            total.append(avg[0].average())\n",
    "            coul.append(avg[1].average())\n",
    "            lj.append(avg[2].average())\n",
    "    \n",
    "    # The data is in lists which can be put into pandas columns. We will index the \n",
    "    # DataFrame using the residue number (assuming that they are all unique)\n",
    "    return DataFrame( index = resnums,\n",
    "                      data = {\"name\" : resnams, \"total\" : total, \"coulomb\" : coul, \"LJ\" : lj},\n",
    "                      columns=[\"name\", \"total\", \"coulomb\", \"LJ\"] )"
   ]
  },
  {
   "cell_type": "markdown",
   "metadata": {},
   "source": [
    "Now use the above function to process all of the files and generate the pandas DataFrame..."
   ]
  },
  {
   "cell_type": "code",
   "execution_count": null,
   "metadata": {},
   "outputs": [],
   "source": [
    "components = getComponents(filenames)"
   ]
  },
  {
   "cell_type": "markdown",
   "metadata": {},
   "source": [
    "The components are in a pandas DataFrame, so can be manipulated using any of the pandas functions. For example, look at the first few rows using the 'head' function"
   ]
  },
  {
   "cell_type": "code",
   "execution_count": null,
   "metadata": {},
   "outputs": [],
   "source": [
    "components.head()"
   ]
  },
  {
   "cell_type": "markdown",
   "metadata": {},
   "source": [
    "There are components for all residues. Most of these are near zero, so it is a good idea to focus on those that are significant ( > 0.5 kcal mol-1 or < -0.5 kcal mol-1 )"
   ]
  },
  {
   "cell_type": "code",
   "execution_count": null,
   "metadata": {},
   "outputs": [],
   "source": [
    "components[ components.total.abs() > 1.0 ]"
   ]
  },
  {
   "cell_type": "markdown",
   "metadata": {},
   "source": [
    "You can even use matplotlib to plot these :-)"
   ]
  },
  {
   "cell_type": "code",
   "execution_count": null,
   "metadata": {},
   "outputs": [],
   "source": [
    "components[ components.total.abs() > 1.0 ].plot.bar()"
   ]
  },
  {
   "cell_type": "markdown",
   "metadata": {},
   "source": [
    "The analysis shows which residues are making a contribution to binding. A negative sign shows that the residue prefers to bind the ligand, while a positive sign shows that the residue prefers to bind the ligand.\n",
    "\n",
    "You can use these components to begin to gain insight into why waterswap predicts that the ligand is a good or poor binder to the protein, in terms of how well the ligand displaces water for each of the residues in the protein. For example, here we see that the strongest contributing residues to binding are GLU38, ARG212 and ARG287, which are the charged residues that form salt-bridges with the ligand. The residues that destablise the ligand are ARG75 and GLU196. This suggests that stronger binding could be obtained by modifying oseltamivir to better target these residues.\n",
    "\n",
    "The next step once you have identified residues is to look at the 3D structures sampled during the waterswap calculation to see if you can understand from those why different residues have different preferences for the ligand or water. One way to help is to color-code residues based on the free energy components calculated above.\n",
    "\n",
    "First, we need to get one of the PDB structures output by the waterswap calculation. By default the calculation writes PDB files every 50 iterations from the protein box and the water box at the closest lambda value to 0 (lambda=0.005) and the closest lambda value to 1 (0.995). The files are called\n",
    "\n",
    "* bound_mobile_XXXXX_YYYYY.pdb : the protein box files at iteration XXXXX and lambda value YYYYY, e.g. bound_mobile_001000_0.00500.pdb\n",
    "* free_mobile_XXXXX_YYYYY.pdb : the water box files at iteration XXXXX and lambda value YYYYY, e.g. free_mobile_000500_0.99500.pdb\n",
    "\n",
    "Note that, to save space, the files contain only the mobile atoms in the simulation, so don't worry that they look like a ball and most of the protein and water is missing. The fixed atoms are in the simulation, they just aren't written to these files. \n",
    "\n",
    "To color-code the residues, we first need to read one of the protein-box files..."
   ]
  },
  {
   "cell_type": "code",
   "execution_count": null,
   "metadata": {},
   "outputs": [],
   "source": [
    "system = Sire.IO.MoleculeParser.read(\"%s/bound_mobile_001000_0.00500.pdb\" % outdir)"
   ]
  },
  {
   "cell_type": "markdown",
   "metadata": {},
   "source": [
    "We need to extract the protein... We can do this by finding the first molecule with a residue called \"ALA\""
   ]
  },
  {
   "cell_type": "code",
   "execution_count": null,
   "metadata": {},
   "outputs": [],
   "source": [
    "protein = system[Sire.Mol.MolWithResID(Sire.Mol.ResName(\"ALA\"))]"
   ]
  },
  {
   "cell_type": "markdown",
   "metadata": {},
   "source": [
    "Here is a function that colour-codes the protein based on the passed pandas DataFrame"
   ]
  },
  {
   "cell_type": "code",
   "execution_count": null,
   "metadata": {},
   "outputs": [],
   "source": [
    "def colourProtein(protein, data, column):\n",
    "    \"\"\"Colour-code the passed protein using the data contained in the passed dataframe, using the\n",
    "       specified column\"\"\"\n",
    "    \n",
    "    # first find the maximum absolute value - we will scale linearly from there\n",
    "    vals = data[column]\n",
    "    maxval = vals.abs().max()\n",
    "    \n",
    "    # now create an AtomFloatProperty that will contain a number for each atom\n",
    "    # in each residue. This will be from 0-100, with 0 representing -maxval, \n",
    "    # 50 representing 0 and 100 representing maxval\n",
    "    betas = Sire.Mol.AtomFloatProperty(protein, 50.0)\n",
    "    \n",
    "    for x in data.index:\n",
    "        resnum = Sire.Mol.ResNum(int(x))\n",
    "        resnam = Sire.Mol.ResName(data.name[x])\n",
    "        value = vals[x]\n",
    "        \n",
    "        scaled = 50.0 + 50.0*(value/maxval)\n",
    "        \n",
    "        # issues with beta mean it must lie between 0 and 99.99\n",
    "        if scaled < 0:\n",
    "            scaled = 0.0\n",
    "        elif scaled > 99.99:\n",
    "            scaled = 99.99\n",
    "            \n",
    "        residue = protein[ resnam + resnum ]\n",
    "        \n",
    "        for atom in residue.atoms():\n",
    "            betas.set(atom.cgAtomIdx(), scaled)\n",
    "            \n",
    "    # Set the 'beta_factor' property as this is the name used for the 'beta_factor'\n",
    "    # value by the PDB writer\n",
    "    protein = protein.edit().setProperty(\"beta_factor\", betas).commit()\n",
    "    return protein"
   ]
  },
  {
   "cell_type": "markdown",
   "metadata": {},
   "source": [
    "We will use this function to update the protein by colouring it using the \"beta\" property from the \"total\" free energy components."
   ]
  },
  {
   "cell_type": "code",
   "execution_count": null,
   "metadata": {},
   "outputs": [],
   "source": [
    "protein = colourProtein(protein, components, \"total\")"
   ]
  },
  {
   "cell_type": "markdown",
   "metadata": {},
   "source": [
    "Next we update the loaded system with the new, colour-coded version of the protein"
   ]
  },
  {
   "cell_type": "code",
   "execution_count": null,
   "metadata": {},
   "outputs": [],
   "source": [
    "system.update(protein)"
   ]
  },
  {
   "cell_type": "markdown",
   "metadata": {},
   "source": [
    "Finally, we write this system out to a PDB file that you can load into any molecular visualiser"
   ]
  },
  {
   "cell_type": "code",
   "execution_count": null,
   "metadata": {},
   "outputs": [],
   "source": [
    "Sire.IO.MoleculeParser.write(system, \"colourcoded.pdb\")"
   ]
  },
  {
   "cell_type": "markdown",
   "metadata": {},
   "source": [
    "You can now download this PDB file using the Jupyter interface. Load it into a molecular viewer, for example VMD. Select the protein and colour it by beta factor. You should see the residues that contribute strongly to the binding free energy highlighted in the 3D view. For example, here is the view I've made using VMD...\n",
    "\n",
    "![Colour-coded neuraminidase](images/colorcoded.jpg)\n",
    "\n",
    "Note that the selection I used to highlight only the important residues was;\n",
    "\n",
    "```\n",
    "noh and protein and not name O N and (beta > 52 or beta < 48)\n",
    "```\n",
    "\n",
    "(this used the fact that beta=50 meant no significant difference, while beta > 52 or beta < 48 were significant)\n",
    "\n",
    "From this picture we can make some interesting observations:"
   ]
  },
  {
   "cell_type": "markdown",
   "metadata": {},
   "source": [
    "* Of the three arginines at the base of the binding site, the ligand is binding strongly to ARG287 and ARG212. ARG37 shows little preference for binding to the ligand or water. This correlates with [dynamics studies](http://dx.doi.org/10.1021/bi400754t) that showed during unbinding trajectories that the ligand lost interaction with ARG37 easily, and with [mutation studies](http://dx.doi.org/10.1038/srep03561) that show that mutation of ARG212 can lead to loss of drug efficacy.\n",
    "* GLU38 has slight preference to bind to the ligand over water, but this leads to a strong preference for ARG75 for water. This is because binding of the ligand to GLU38 weakens the salt bridge between GLU38 and ARG75. This is good for GLU38, but destabilises ARG75.\n",
    "* Similarly, a slight preference of ARG144 to the ligand weakens its interaction with GLU196, thereby suggesting why GLU196 shows preference to bind water (and therefore destabilises binding of the ligand).\n",
    "* Binding is strongly driven by ARG287. The contribution of the other residues in the binding site is very small compared to the strong preference of ARG287 to bind oseltamivir. This is unsurprising, as this is a strong salt-bridge interaction. However, it does suggest that the other residues are comparatively indifferent to binding the ligand or water, and so more binding affinity could be obtained by modifying oseltamivir to strengthen specific interactions with other residues, e.g. ARG71 and ASP70, which are on the \"150-loop\" that sits above the ligand, and the opening of which [has been shown](http://dx.doi.org/10.1021/bi300561n) to lead to drug unbinding."
   ]
  }
 ],
 "metadata": {
  "kernelspec": {
   "display_name": "Python 3",
   "language": "python",
   "name": "python3"
  },
  "language_info": {
   "codemirror_mode": {
    "name": "ipython",
    "version": 3
   },
   "file_extension": ".py",
   "mimetype": "text/x-python",
   "name": "python",
   "nbconvert_exporter": "python",
   "pygments_lexer": "ipython3",
   "version": "3.5.2"
  }
 },
 "nbformat": 4,
 "nbformat_minor": 2
}
