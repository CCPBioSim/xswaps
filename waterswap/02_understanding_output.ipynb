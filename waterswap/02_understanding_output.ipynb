{
 "cells": [
  {
   "cell_type": "markdown",
   "metadata": {},
   "source": [
    "# Understanding the output of WaterSwap\n",
    "\n",
    "waterswap is fully automatic. This means that you don’t need to do anything to get the calculation to run. However, waterswap will print a lot of output to let you know what it is doing, and to give you a chance to check that everything is ok.\n",
    "\n",
    "The output from waterswap is very similar to ligandswap. The only differences relate to the fact that the ligand is being swapped with water. If you are happy with ligandswap then waterswap should make sense.\n",
    "\n",
    "Execute the cell below to see example output from a waterswap simulationThe output from waterswap is very similar to that of ligandswap. "
   ]
  },
  {
   "cell_type": "code",
   "execution_count": null,
   "metadata": {},
   "outputs": [],
   "source": [
    "! cat runsim.log"
   ]
  },
  {
   "cell_type": "markdown",
   "metadata": {},
   "source": [
    "A key part of the output gives information about the identity points that are used to choose the water molecules that are being swapped. More information about how this works in [in this paper](link)\n",
    "\n",
    "```\n",
    "Obtaining the identity points...\n",
    "Auto-identifying the identity atoms...\n",
    "Using 6 identity points: ['C4', 'C6', 'H14', 'H15', 'H5', 'H9']\n",
    "Using identity points:\n",
    "[Atom( C4 : 6 ), Atom( C6 : 9 ), Atom( H14 : 33 ), Atom( H15 : 34 ), Atom( H5 : 24 ), Atom( H9 : 28 )]\n",
    "\n",
    "Identifying the swap-water cluster...\n",
    "found 6 molecules that are now part of the swap water cluster\n",
    "Equilibrating the swap water cluster (moves = 5000)\n",
    "Complete. Equilibrated water molecules in file 'swapcluster01.pdb'\n",
    "```\n",
    "\n",
    "These points are used to identify a number of water molecules (equal to the number of identity points). These are copied into the protein complex in place of the ligand and equilibrated for a number of steps. The equilibrated water molecules are written to a file called `swapcluster01.pdb`. When you run waterswap in production you should take a look at this file and make sure that the choice of water molecules fits neatly under the ligand. For example, the picture below shows the ligand and swapped water molecules.\n",
    "\n",
    "PICTURE\n",
    "\n",
    "If there are too many or too few water molecules, you can choose your own points by specifying the atoms in the ligand to use. These are passed in via the config file using the `identity atoms` option, e.g.\n",
    "\n",
    "```\n",
    "identity atoms = ['Cl1', 'O1', 'O2', 'N1', 'N2', 'C1', 'C5', 'C6', 'C9', 'C11', 'C12', 'C14']\n",
    "```\n",
    "\n",
    "would place identity points on the atoms in the ligand called \"C11\", \"O1\", \"O2\" etc.\n",
    "\n",
    "You can get a full list of config options and their default values using the `--help-config` option"
   ]
  },
  {
   "cell_type": "code",
   "execution_count": null,
   "metadata": {},
   "outputs": [],
   "source": [
    "! $SIRE/bin/waterswap --help-config"
   ]
  },
  {
   "cell_type": "code",
   "execution_count": null,
   "metadata": {},
   "outputs": [],
   "source": []
  }
 ],
 "metadata": {
  "kernelspec": {
   "display_name": "Python 3",
   "language": "python",
   "name": "python3"
  },
  "language_info": {
   "codemirror_mode": {
    "name": "ipython",
    "version": 3
   },
   "file_extension": ".py",
   "mimetype": "text/x-python",
   "name": "python",
   "nbconvert_exporter": "python",
   "pygments_lexer": "ipython3",
   "version": "3.5.3"
  }
 },
 "nbformat": 4,
 "nbformat_minor": 2
}
