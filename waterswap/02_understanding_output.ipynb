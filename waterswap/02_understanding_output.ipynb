{
 "cells": [
  {
   "cell_type": "markdown",
   "metadata": {},
   "source": [
    "# Understanding the output of WaterSwap\n",
    "\n",
    "waterswap is fully automatic. This means that you don’t need to do anything to get the calculation to run. However, waterswap will print a lot of output to let you know what it is doing, and to give you a chance to check that everything is ok.\n",
    "\n",
    "The output from waterswap is very similar to ligandswap. The only differences relate to the fact that the ligand is being swapped with water. If you are happy with ligandswap then waterswap should make sense.\n",
    "\n",
    "Because waterswap calculations take a long time, we have provided some example output for you from this simulation. This is in example_output.tar.bz2 and can be unpacked using the cell below."
   ]
  },
  {
   "cell_type": "code",
   "execution_count": null,
   "metadata": {},
   "outputs": [],
   "source": [
    "! tar -jxvf example_output.tar.bz2"
   ]
  },
  {
   "cell_type": "markdown",
   "metadata": {},
   "source": [
    "The output printed when the simulation is running has been captured to a file called `runsim.log`. Take a look at it in the cell below."
   ]
  },
  {
   "cell_type": "code",
   "execution_count": null,
   "metadata": {},
   "outputs": [],
   "source": [
    "! cat runsim.log"
   ]
  },
  {
   "cell_type": "markdown",
   "metadata": {},
   "source": [
    "A key part of the output gives information about the identity points that are used to choose the water molecules that are being swapped. More information about how this works in [in this paper](link)\n",
    "\n",
    "```\n",
    "Obtaining the identity points...\n",
    "Auto-identifying the identity atoms...\n",
    "Skipping AtomName('C1') as it is bonded to 3 or more points...\n",
    "Skipping AtomName('C10') as it is bonded to 3 or more points...\n",
    "Skipping AtomName('C4') as it is bonded to 3 or more points...\n",
    "Skipping AtomName('C6') as it is bonded to 3 or more points...\n",
    "Skipping AtomName('C8') as it is bonded to 3 or more points...\n",
    "Using 14 identity points: ['C11', 'C12', 'C13', 'C14', 'C2', 'C3', 'C5', 'C9', 'N1', 'N2', 'O1', 'O2', 'O3', 'O4']\n",
    "Using identity points:\n",
    "[Atom( C11 : 5855 ), Atom( C12 : 5847 ), Atom( C13 : 5848 ), Atom( C14 : 5858 ), Atom( C2 : 5837 ), Atom( C3 : 5834 ), Atom( C5 : 5826 ), Atom( C9 : 5841 ), Atom( N1 : 5824 ), Atom( N2 : 5829 ), Atom( O1 : 5839 ), Atom( O2 : 5840 ), Atom( O3 : 5818 ), Atom( O4 : 5845 )]\n",
    "\n",
    "Identifying the swap-water cluster...\n",
    "found 14 molecules that are now part of the swap water cluster\n",
    "Equilibrating the swap water cluster (moves = 5000)\n",
    "Complete. Equilibrated water molecules in file 'swapcluster01.pdb'\n",
    "```\n",
    "\n",
    "These points are used to identify a number of water molecules (equal to the number of identity points). These are copied into the protein complex in place of the ligand and equilibrated for a number of steps. The equilibrated water molecules are written to a file called `swapcluster01.pdb`. When you run waterswap in production you should take a look at this file and make sure that the choice of water molecules fits neatly under the ligand.\n",
    "\n",
    "To make this easier, use two \"spacefill\" representations; one for the swapped water (residue name SWP) and one for the ligand (OSE). Note that the 3D viewer does a poor job of working out the atom types of a couple of atoms in the ligand."
   ]
  },
  {
   "cell_type": "code",
   "execution_count": null,
   "metadata": {},
   "outputs": [],
   "source": [
    "from BioSimSpace import viewMolecules\n",
    "v = viewMolecules(\"swapcluster01.pdb\")"
   ]
  },
  {
   "cell_type": "markdown",
   "metadata": {},
   "source": [
    "Ideally all of the water molecules will lie within the volume of the ligand, and will fill the volume. If too few are selected then there will be parts of the ligand that will not be replaced by water. Equally, if too many are selected (as could be argued to be the case here) then the water will be squeezed into a small volume than would be ideal. Fortunately, the sampling performed in waterswap makes the calculation quite tolerant to small differences in volume.\n",
    "\n",
    "If there are too many or too few water molecules, you can choose your own points by specifying the atoms in the ligand to use. These are passed in via the config file using the `identity atoms` option, e.g.\n",
    "\n",
    "```\n",
    "identity atoms = ['Cl1', 'O1', 'O2', 'N1', 'N2', 'C1', 'C5', 'C6', 'C9', 'C11', 'C12', 'C14']\n",
    "```\n",
    "\n",
    "would place identity points on the atoms in the ligand called \"C11\", \"O1\", \"O2\" etc.\n",
    "\n",
    "You can get a full list of config options and their default values using the `--help-config` option"
   ]
  },
  {
   "cell_type": "code",
   "execution_count": null,
   "metadata": {},
   "outputs": [],
   "source": [
    "! $SIRE/bin/waterswap --help-config"
   ]
  }
 ],
 "metadata": {
  "kernelspec": {
   "display_name": "Python 3",
   "language": "python",
   "name": "python3"
  },
  "language_info": {
   "codemirror_mode": {
    "name": "ipython",
    "version": 3
   },
   "file_extension": ".py",
   "mimetype": "text/x-python",
   "name": "python",
   "nbconvert_exporter": "python",
   "pygments_lexer": "ipython3",
   "version": "3.5.2"
  }
 },
 "nbformat": 4,
 "nbformat_minor": 2
}
