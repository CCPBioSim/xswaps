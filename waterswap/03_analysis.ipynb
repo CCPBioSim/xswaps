{
 "cells": [
  {
   "cell_type": "markdown",
   "metadata": {},
   "source": [
    "# Analysis of Results\n",
    "\n",
    "As waterswap runs, it stores all of the free energy differences and gradients necessary to calculate free energies into a file in this directory called `freenrgs.s3`. This is a binary file that can be analysed using the program `analyse_freenrg` which comes with Sire."
   ]
  },
  {
   "cell_type": "code",
   "execution_count": null,
   "metadata": {},
   "outputs": [],
   "source": [
    "! $SIRE/bin/analyse_freenrg -i output/freenrgs.s3"
   ]
  },
  {
   "cell_type": "markdown",
   "metadata": {},
   "source": [
    "The output is the same and is interpreted in the same way as for ligandswap. Here, we see that we have a smooth PMF with good convergence, and with all free energy methods in reasonable agreement.\n",
    "\n",
    "```\n",
    "PMF Plot of free energy versus lambda\n",
    "   │                                                                            \n",
    "   ┼+34.4186                                                     ○○○○○○         \n",
    "   │                                                        ○○○○○      ○○○○     \n",
    "   │                                                    ○○○○              ○○○   \n",
    "   │                                                 ○○○                        \n",
    "   │                                              ○○○                           \n",
    "   │                                           ○○○○                             \n",
    "   │                                       ○○○○                                 \n",
    "   │                                 ○○○○○○                                     \n",
    "   │           ○○○○○○○○○○○○○○○○○○○○○○                                           \n",
    "   │        ○○○                                                                 \n",
    "   │      ○○                                                                    \n",
    "   │   ○○○                                                                      \n",
    "   │  ○○                                                                        \n",
    "   │ ○                                                                          \n",
    "   │ ○                                                                          \n",
    "   │○                                                                           \n",
    "   ┼+0.73                                                                       \n",
    "───○┼───────────────────────────────────────────────────────────────────────┼───\n",
    "   │ +0.0051                                                              +1    \n",
    "\n",
    "# Free energies \n",
    "# Bennetts = 35.75232389774603 +/- 0.03722153784028102 kcal mol-1#\n",
    "# FEP = 30.89165333829825 +/- 17.022431093554317 kcal mol-1#\n",
    "# TI = 31.018571737373236 +/- 2.4094582620474867 kcal mol-1 (quadrature = 32.31841626264745 kcal mol-1)#\n",
    "```\n",
    "\n",
    "Note that waterswap actually calculates the free energy to replace the ligand with water, which is the unbinding free energy. The binding free energy is the negative of this value.\n",
    "\n",
    "Waterswap predicts (correctly) that oseltamivir is a strong binder to neuraminidase, with a free energy of binding between -31 and -36 kcal mol-1."
   ]
  }
 ],
 "metadata": {
  "kernelspec": {
   "display_name": "Python 3",
   "language": "python",
   "name": "python3"
  },
  "language_info": {
   "codemirror_mode": {
    "name": "ipython",
    "version": 3
   },
   "file_extension": ".py",
   "mimetype": "text/x-python",
   "name": "python",
   "nbconvert_exporter": "python",
   "pygments_lexer": "ipython3",
   "version": "3.5.2"
  }
 },
 "nbformat": 4,
 "nbformat_minor": 2
}
