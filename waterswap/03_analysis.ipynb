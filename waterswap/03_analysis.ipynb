{
 "cells": [
  {
   "cell_type": "markdown",
   "metadata": {},
   "source": [
    "# Analysis of Results\n",
    "\n",
    "As a full waterswap calculation involves over 800 million Monte Carlo moves, we have pre-prepared the output for you to analyse. This is in the directory `example_output`.\n",
    "\n",
    "As waterswap runs, it stores all of the free energy differences and gradients necessary to calculate free energies into a file in this directory called `freenrgs.s3`. This is a binary file that can be analysed using the program `analyse_freenrg` which comes with Sire."
   ]
  },
  {
   "cell_type": "code",
   "execution_count": null,
   "metadata": {},
   "outputs": [],
   "source": [
    "! $SIRE/bin/analyse_freenrg -i example_output/freenrgs.s3"
   ]
  },
  {
   "cell_type": "markdown",
   "metadata": {},
   "source": [
    "The output is the same and is interpreted in the same way as for ligandswap. Here, we see that we have a smooth PMF with good convergence, and with all free energy methods in good agreement.\n",
    "\n",
    "PLOT OF PMF\n",
    "\n",
    "This shows that waterswap predicts that the SOMETHING SOMETHING SOMETHING"
   ]
  },
  {
   "cell_type": "code",
   "execution_count": null,
   "metadata": {},
   "outputs": [],
   "source": []
  }
 ],
 "metadata": {
  "kernelspec": {
   "display_name": "Python 3",
   "language": "python",
   "name": "python3"
  },
  "language_info": {
   "codemirror_mode": {
    "name": "ipython",
    "version": 3
   },
   "file_extension": ".py",
   "mimetype": "text/x-python",
   "name": "python",
   "nbconvert_exporter": "python",
   "pygments_lexer": "ipython3",
   "version": "3.5.3"
  }
 },
 "nbformat": 4,
 "nbformat_minor": 2
}
