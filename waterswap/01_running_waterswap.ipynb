{
 "cells": [
  {
   "cell_type": "markdown",
   "metadata": {},
   "source": [
    "# Running WaterSwap\n",
    "\n",
    "WaterSwap has almost exactly the same interface as, and is run and analysed in the same way as LigandSwap. The only difference is that in WaterSwap, you swap a ligand with a cluster of water molecules. This means that you only have to supply a single topology/coordinate file set for the protein-ligand complex you are studying. The calculation is then very similar to LigandSwap, except now, as you are swapping the ligand for water, the calculation will return the absolute binding free energy.\n",
    "\n",
    "A WaterSwap simulation is performed using the `waterswap` program that comes with Sire. You can get help on how to use it via the `--help` and `--help-config` options, the same as for ligandswap."
   ]
  },
  {
   "cell_type": "code",
   "execution_count": null,
   "metadata": {},
   "outputs": [],
   "source": [
    "! $SIRE/bin/waterswap --help"
   ]
  },
  {
   "cell_type": "markdown",
   "metadata": {},
   "source": [
    "## Understanding the input\n",
    "\n",
    "WaterSwap calculates the absolute binding free energy of a ligand to a protein. As input it needs;\n",
    "\n",
    "* An amber-format topology file and coordinate file for the protein bound to the ligand, in a cubic periodic box of water.\n",
    "* Optionally a configuration file that overrides the default parameters for the waterswap calculation.\n",
    "\n",
    "The waterswap directory that comes with this notebook contains all of the files that are needed to calculate the absolute free energy of the ligand LIG to the protein thrombin.\n",
    "\n",
    "The files in this directory that are needed for waterswap are;\n",
    "\n",
    "* An amber-format topology (complex.top) and coordinate file (complex.rst) of LIG bound to thrombin.\n",
    "\n",
    "You can see these files by listing the contents of this directory..."
   ]
  },
  {
   "cell_type": "code",
   "execution_count": null,
   "metadata": {},
   "outputs": [],
   "source": [
    "! ls"
   ]
  },
  {
   "cell_type": "markdown",
   "metadata": {},
   "source": [
    "## Running a WaterSwap Calculation\n",
    "\n",
    "The general way to run a waterswap calculation is by typing;\n",
    "\n",
    "```\n",
    "$SIRE/bin/waterswap -t complex.top -c complex.crd -l NAME -C config\n",
    "```\n",
    "\n",
    "where\n",
    "\n",
    "* complex.top is the name of the topology file containing the protein bound to the ligand in a periodic cubic box of water\n",
    "* complex.crd is the corresponding coordinate file to complex.top\n",
    "* NAME is the residue name of one of the residues in the ligand. Note that only one molecule in complex.top should have this name, as waterswap can only swap one ligand at a time.\n",
    "* config is the name of the (optional) config file to control waterswap.\n",
    "\n",
    "In our case, we could run a waterswap calculation using the following command;"
   ]
  },
  {
   "cell_type": "code",
   "execution_count": null,
   "metadata": {},
   "outputs": [],
   "source": [
    "! $SIRE/bin/waterswap -t complex.top -c complex.rst -l LIG"
   ]
  },
  {
   "cell_type": "markdown",
   "metadata": {},
   "source": [
    "## WARNING\n",
    "\n",
    "The above command will take *a really long time (days)* and uses a lot of memory (>4 GB). If you are running this notebook in the cloud then the waterswap calculation will likely be killed. For the purposes of this workshop kill the waterswap calculation yourself by clicking \"Kernel | Interupt\" in the menu at the top."
   ]
  },
  {
   "cell_type": "code",
   "execution_count": null,
   "metadata": {},
   "outputs": [],
   "source": []
  }
 ],
 "metadata": {
  "kernelspec": {
   "display_name": "Python 3",
   "language": "python",
   "name": "python3"
  },
  "language_info": {
   "codemirror_mode": {
    "name": "ipython",
    "version": 3
   },
   "file_extension": ".py",
   "mimetype": "text/x-python",
   "name": "python",
   "nbconvert_exporter": "python",
   "pygments_lexer": "ipython3",
   "version": "3.5.3"
  }
 },
 "nbformat": 4,
 "nbformat_minor": 2
}
