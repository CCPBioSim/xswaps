{
 "cells": [
  {
   "cell_type": "markdown",
   "metadata": {},
   "source": [
    "# Using LigandSwap to Calculate Relative Binding Free Energies\n",
    "\n",
    "LigandSwap is distributed as part of Sire. The program is found in the `$SIRE/bin` directory, assuming that `$SIRE` has been set to the directory in which Sire is installed. This notebook relies on the ligandswap that comes with version 2018.1 or later of Sire. You can check that the version by running the below command..."
   ]
  },
  {
   "cell_type": "code",
   "execution_count": null,
   "metadata": {},
   "outputs": [],
   "source": [
    "! $SIRE/bin/ligandswap --version"
   ]
  },
  {
   "cell_type": "markdown",
   "metadata": {},
   "source": [
    "Assuming everything is fine you should see something similar to this printed\n",
    "\n",
    "```\n",
    "Starting /opt/conda/bin/ligandswap: number of threads equals 2\n",
    "\n",
    "ligandswap version 1.0 implemented using\n",
    "Sire 2018.1.0 [devel|cd98482, clean]\n",
    "```"
   ]
  },
  {
   "cell_type": "markdown",
   "metadata": {},
   "source": [
    "## Understanding the input\n",
    "\n",
    "Ligandswap calculates the relative binding free energy of two ligands, A and B, to the same protein. As input it needs;\n",
    "\n",
    "* An amber-format topology file and coordinate file for the protein bound to ligand A, in a cubic periodic box of water.\n",
    "* An amber-format topology file and coordinate file containing ligand B. The file should contain the ligand equilibrated in a periodoc box (e.g. bound to the protein or free in water). Only the coordinates and parameters of ligand B will be taken from this file. However, it is useful to use the ligand bound to the desired protein, as this ensures that ligand B is in a conformation that resembles the equilibrated binding mode.\n",
    "* Optionally A configuration file that overrides the default parameters for the ligandswap calculation.\n",
    "\n",
    "The ligandswap directory that comes with this notebook contains all of the files that are needed to calculate the relative free energy of the ligands FMC and CTI to the protein nicotinic amide receptor.\n",
    "\n",
    "The files in this directory that are needed for ligandswap are;\n",
    "\n",
    "* An amber-format topology (rec_fmc.top) and coordinate file (fmc.30.crd) of FMC bound to nicotinic amide receptor. This is a pentameric protein with 5 binding sites, and so contains 5 bound FMC ligands. One of the ligands has been renamed to “FM1” so that it can be identified and swapped during the ligandswap simulation. The complex is in a cubic periodic box of TIP3P water, and has already been equilibrated for 30 nanoseconds using molecular dynamics.\n",
    "\n",
    "* An amber-format topology (rec_cti.top) and coordinate file (cti.30.crd) of CTI also bound to nicotinic amide receptor.\n",
    "\n",
    "You can see these files by listing the contents of this directory..."
   ]
  },
  {
   "cell_type": "code",
   "execution_count": null,
   "metadata": {},
   "outputs": [],
   "source": [
    "! ls"
   ]
  },
  {
   "cell_type": "markdown",
   "metadata": {},
   "source": [
    "The input files are currently compressed to save space. We need to uncompress them before we can run any calculations."
   ]
  },
  {
   "cell_type": "code",
   "execution_count": null,
   "metadata": {},
   "outputs": [],
   "source": [
    "! bunzip2 -k *.crd.bz2 *.top.bz2; ls"
   ]
  },
  {
   "cell_type": "markdown",
   "metadata": {},
   "source": [
    "The input files describe a pentameric protein that is binding five FMC ligands (one of which is called FM1). You can view the molecules using the \"viewMolecules\" function that comes from [BioSimSpace](https://biosimspace.org). We are viewing molecules 0-10 as the first five molecules are protein, and the next five are ligand.\n",
    "\n",
    "Use the \"representations\" tab to change the protein to a cartoon representation and to view the ligands (\"FMC\") as licorice. Show the FMC ligand that will be swapped (called \"FM1\") as spacefill. Can you see it in the structure. Is it similar to the other ligands?"
   ]
  },
  {
   "cell_type": "code",
   "execution_count": null,
   "metadata": {},
   "outputs": [],
   "source": [
    "import BioSimSpace as BSS\n",
    "v = BSS.viewMolecules([\"rec_fmc.top\", \"fmc.30.crd\"], range(0,10))"
   ]
  },
  {
   "cell_type": "markdown",
   "metadata": {},
   "source": [
    "## Running a LigandSwap Calculation\n",
    "\n",
    "The general way to run a ligandswap calculation is by typing;\n",
    "\n",
    "```\n",
    "$SIRE/bin/ligandswap -t0 complex_a.top -c0 complex_a.crd -l0 NAME_A -t1 lig_b.top -c1 lig_b.crd -l1 NAME_B -C config\n",
    "```\n",
    "\n",
    "where\n",
    "\n",
    "* complex_a.top is the name of the topology file containing the protein bound to ligand A in a periodic cubic box of water\n",
    "* complex_a.crd is the corresponding coordinate file to complex_a.top\n",
    "* NAME_A is the residue name of one of the residues in ligand A. Note that only one molecule in complex_a.top should have this name, as ligandswap can only swap one ligand at a time.\n",
    "* lig_b.top is the name of the topology file containing ligand B\n",
    "* lig_b.crd is the corresponding coordinate file to lig_b.crd\n",
    "* NAME_B is the residue name of one of the residues in ligand B. Again, note that only one molecule in lig_b.top should have this name.\n",
    "* config is the name of the (optional) config file to control ligandswap.\n",
    "\n",
    "In our case, we could run a ligandswap calculation using the following command;"
   ]
  },
  {
   "cell_type": "code",
   "execution_count": null,
   "metadata": {},
   "outputs": [],
   "source": [
    "! $SIRE/bin/ligandswap -t0 rec_fmc.top -c0 fmc.30.crd -l0 FM1 -t1 rec_cti.top -c1 cti.30.crd -l1 CTI"
   ]
  },
  {
   "cell_type": "markdown",
   "metadata": {},
   "source": [
    "## WARNING\n",
    "\n",
    "The above command will take *a really long time (days)* and uses a lot of memory (>4 GB). If you are running this notebook in the cloud then the ligandswap calculation will likely be killed. For the purposes of this workshop kill the ligandswap calculation yourself by clicking \"Kernel | Interupt\" in the menu at the top."
   ]
  }
 ],
 "metadata": {
  "kernelspec": {
   "display_name": "Python 3",
   "language": "python",
   "name": "python3"
  },
  "language_info": {
   "codemirror_mode": {
    "name": "ipython",
    "version": 3
   },
   "file_extension": ".py",
   "mimetype": "text/x-python",
   "name": "python",
   "nbconvert_exporter": "python",
   "pygments_lexer": "ipython3",
   "version": "3.5.2"
  }
 },
 "nbformat": 4,
 "nbformat_minor": 2
}
