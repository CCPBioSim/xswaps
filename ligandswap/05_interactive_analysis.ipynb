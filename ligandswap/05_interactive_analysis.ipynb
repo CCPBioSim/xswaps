{
 "cells": [
  {
   "cell_type": "markdown",
   "metadata": {},
   "source": [
    "# Deep Dive: What is analyse_freenrg doing?\n",
    "\n",
    "analyse_freenrg is a Python program that is performing a default analysis of the energy differences and gradients that are contained in the freenrgs.s3 file. You can do this analysis youself if you want to have more control, or want to get a deeper insight into the calculation.\n",
    "\n",
    "To do this, we need to import the `Sire.Stream` module, which reads `.s3` files, and also pandas and MatplotLib so that we can draw some graphs :-)"
   ]
  },
  {
   "cell_type": "code",
   "execution_count": null,
   "metadata": {},
   "outputs": [],
   "source": [
    "import pandas as pd\n",
    "from pandas import Series, DataFrame\n",
    "import matplotlib.pyplot as plt\n",
    "%config InlineBackend.figure_format = 'svg'   # helps make things look better in Jupyter :-)\n",
    "\n",
    "import Sire.Stream"
   ]
  },
  {
   "cell_type": "markdown",
   "metadata": {},
   "source": [
    "`Sire.Stream.read` will read all of the Python objects that are contained in a `.s3` file. The `freenrgs.s3` file contains three objects:\n",
    "\n",
    "* bennetts - the object containing all of the data needed for a Bennetts calculation of the free energy\n",
    "* fep - the object containing all of the data needed for a FEP calculation of the free energy\n",
    "* ti - the object containing all of the data needed for a TI calculation of the free energy\n",
    "\n",
    "We can load this into the notebook by using"
   ]
  },
  {
   "cell_type": "code",
   "execution_count": null,
   "metadata": {},
   "outputs": [],
   "source": [
    "(bennetts, fep, ti) = Sire.Stream.load(\"output/freenrgs.s3\")"
   ]
  },
  {
   "cell_type": "markdown",
   "metadata": {},
   "source": [
    "All of the objects come with their own documentation, e.g."
   ]
  },
  {
   "cell_type": "code",
   "execution_count": null,
   "metadata": {},
   "outputs": [],
   "source": [
    "help(bennetts)"
   ]
  },
  {
   "cell_type": "markdown",
   "metadata": {},
   "source": [
    "Each object contains the data collected from each iteration. We can access that data using subscripts, e.g. to get the Bennetts data from the first iteration we use"
   ]
  },
  {
   "cell_type": "code",
   "execution_count": null,
   "metadata": {},
   "outputs": [],
   "source": [
    "data = bennetts[1]\n",
    "print(data)"
   ]
  },
  {
   "cell_type": "markdown",
   "metadata": {},
   "source": [
    "We can get the individual free energy averages from each λ window by inspecting this object. For example, Bennetts involves collecting both a forwards and backwards ratio for each window. We can look at the individual forwards ratios for each window using"
   ]
  },
  {
   "cell_type": "code",
   "execution_count": null,
   "metadata": {},
   "outputs": [],
   "source": [
    "print(data.forwardsData())"
   ]
  },
  {
   "cell_type": "markdown",
   "metadata": {},
   "source": [
    "All of these individual forwards and backwards ratios across all λ windows can be summed together to obtain a potential of mean force (the free energy as a function of λ). This is generated using the `sum` function"
   ]
  },
  {
   "cell_type": "code",
   "execution_count": null,
   "metadata": {},
   "outputs": [],
   "source": [
    "pmf = bennetts[1].sum()\n",
    "print(pmf)"
   ]
  },
  {
   "cell_type": "markdown",
   "metadata": {},
   "source": [
    "We can plot this PMF using Matplotlib by using the below code..."
   ]
  },
  {
   "cell_type": "code",
   "execution_count": null,
   "metadata": {},
   "outputs": [],
   "source": [
    "def plotPMF(pmf):\n",
    "    x = [point.x() for point in pmf.values()]\n",
    "    y = [point.y() for point in pmf.values()]\n",
    "    d = DataFrame( index=x, data={\"free energy\":y} )\n",
    "    d.plot()\n",
    "    \n",
    "plotPMF(pmf)"
   ]
  },
  {
   "cell_type": "markdown",
   "metadata": {},
   "source": [
    "This is a pretty poor PMF as it is calculated only from the data collected from the first iteration of the calculation. This ligandswap calculation involved 1000 iterations. We can use all of the data by merging it together. We do this using the `merge` function."
   ]
  },
  {
   "cell_type": "code",
   "execution_count": null,
   "metadata": {},
   "outputs": [],
   "source": [
    "merged = bennetts.merge(1,1000)"
   ]
  },
  {
   "cell_type": "markdown",
   "metadata": {},
   "source": [
    "The `merged` object has all of the data from all 1000 iterations merged together into a single set of averages for each λ window. We can use this to generate a PMF and calculate the free energy"
   ]
  },
  {
   "cell_type": "code",
   "execution_count": null,
   "metadata": {},
   "outputs": [],
   "source": [
    "pmf = merged.sum()\n",
    "print(pmf)\n",
    "plotPMF(pmf)"
   ]
  },
  {
   "cell_type": "markdown",
   "metadata": {},
   "source": [
    "Like all simulations, there is a period of equilibration that we should discard. Typically we set this as the first 40% of the calculation, everything before iteration 400. To use only the data from the last 60% of the calculation we change what we merge, e.g."
   ]
  },
  {
   "cell_type": "code",
   "execution_count": null,
   "metadata": {},
   "outputs": [],
   "source": [
    "merged = bennetts.merge(400,1000)\n",
    "pmf = merged.sum()\n",
    "print(pmf)\n",
    "plotPMF(pmf)"
   ]
  },
  {
   "cell_type": "markdown",
   "metadata": {},
   "source": [
    "How can we know that we are right to discard the first 40% of iterations? The best way to check is to plot the free energy predicted from each iteration and plot this. We can do this using the below code"
   ]
  },
  {
   "cell_type": "code",
   "execution_count": null,
   "metadata": {},
   "outputs": [],
   "source": [
    "def plotConvergence(data):\n",
    "    x = [i for i in range(1,1001)]\n",
    "    b = [data[i].sum().values()[-1].y() for i in range(1,1001)]\n",
    "    d = DataFrame( index=x, data={\"free energy\":b} )\n",
    "    d.plot()\n",
    "    \n",
    "plotConvergence(bennetts)"
   ]
  },
  {
   "cell_type": "markdown",
   "metadata": {},
   "source": [
    "In this case you can see that the free energy gently falls quickly at the start, and then falls gently between iterations 200 and 400, and then oscillates around an equilibrium value from iteration 400 to 1000 (although there is quite a spike after iteration 800). This gives us confidence that iterations before 400 should be discarded as equilibration, and the free energy calculated using the data from iterations 400 to 1000.\n",
    "\n",
    "We can use similar analysis for the FEP and TI data. The only difference is that because TI uses energy gradients, it uses `integrate` instead of `sum`."
   ]
  },
  {
   "cell_type": "code",
   "execution_count": null,
   "metadata": {},
   "outputs": [],
   "source": [
    "pmf = ti.merge(400,1000).integrate()\n",
    "print(pmf)\n",
    "plotPMF(pmf)"
   ]
  },
  {
   "cell_type": "code",
   "execution_count": null,
   "metadata": {},
   "outputs": [],
   "source": [
    "pmf = fep.merge(400,1000).sum()\n",
    "print(pmf)\n",
    "plotPMF(pmf)"
   ]
  },
  {
   "cell_type": "markdown",
   "metadata": {},
   "source": [
    "So, there are lots of possible free energies that can come out of a single ligandswap calculation. How do you know which one is \"right\"? In general, I look for agreement between all of the methods. Bennetts method converges the quickest, and is generally the most reliable, while FEP is the slowest and least reliable. I look for when Bennetts, FEP and TI all agree to within 1.0 to 1.5 kcal mol-1. If they don't agree, then I run more iterations to encourage convergence, or if this takes too long, will instead use the Bennetts result. If the simulation doesn't converge, then I will plot the convergence of the different methods versus iteration, and will look for iterations where the free energy jumps away from the average. I will then look at the structures sampled at those iterations to see if a rare event has taken place (e.g. conformational change of a residue or displacement of a water molecule). If it has, then this either means that more sampling is needed, or that ligandswap is not capable of making a good prediction for this system.\n",
    "\n",
    "If you really don't want to look at any of this, and just want a single number, then a linear or weighted average of FEP, TI and Bennetts is acceptable, e.g. `0.5 * bennetts + 0.3 * TI + 0.2 * FEP` (with those numbers based on my personal relative feeling of how much I trust each method). The error should be the spread between the different methods, e.g."
   ]
  },
  {
   "cell_type": "code",
   "execution_count": null,
   "metadata": {},
   "outputs": [],
   "source": [
    "b = bennetts.merge(400,1000).sum().values()[-1].y()\n",
    "f = fep.merge(400,1000).sum().values()[-1].y()\n",
    "t = ti.merge(400,1000).integrate().values()[-1].y()\n",
    "\n",
    "average = 0.5*b + 0.3*f + 0.2*t\n",
    "error = 0.5 * (max(f,max(b,t))-min(f,min(b,t)))\n",
    "\n",
    "print(\"Bennetts = %s, FEP = %s, TI = %s\" % (b,f,t))\n",
    "print(\"Result is %s +/- %s kcal mol-1\" % (average,error))"
   ]
  },
  {
   "cell_type": "markdown",
   "metadata": {},
   "source": [
    "So, for the above, I would round to 1 decimal place and report the result as 4.7 +/- 0.2 kcal mol-1 (I round errors up!)"
   ]
  },
  {
   "cell_type": "code",
   "execution_count": null,
   "metadata": {},
   "outputs": [],
   "source": []
  }
 ],
 "metadata": {
  "kernelspec": {
   "display_name": "Python 3",
   "language": "python",
   "name": "python3"
  },
  "language_info": {
   "codemirror_mode": {
    "name": "ipython",
    "version": 3
   },
   "file_extension": ".py",
   "mimetype": "text/x-python",
   "name": "python",
   "nbconvert_exporter": "python",
   "pygments_lexer": "ipython3",
   "version": "3.5.2"
  }
 },
 "nbformat": 4,
 "nbformat_minor": 2
}
