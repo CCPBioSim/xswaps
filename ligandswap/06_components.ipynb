{
 "cells": [
  {
   "cell_type": "markdown",
   "metadata": {},
   "source": [
    "# Free Energy Components\n",
    "\n",
    "One of the major advantages of ligandswap over other relative binding free energy methods is that it supports decomposition of the free energy averages into per-residue components. How it does this is [described in detail here](https://siremol.org/tutorials/ligandswap/theory.html).\n",
    "\n",
    "What does this mean? Well, it means that ligandswap can give you an indication of which residues contribute most to the preference of a protein for binding to one ligand or another.\n",
    "\n",
    "The raw data from which we can calculate the free energy components is held in the `results_XXXX.log` files that are produced in the `output` directory produced during a ligandswap simulation. We have example output files in the directory `output` (assuming you unpacked then in lesson 02)"
   ]
  },
  {
   "cell_type": "code",
   "execution_count": null,
   "metadata": {},
   "outputs": [],
   "source": [
    "outdir = \"output\""
   ]
  },
  {
   "cell_type": "markdown",
   "metadata": {},
   "source": [
    "There is one `results_XXXX.log` file produced from each iteration of the ligandswap calculation. For example, the file `results_1000.log` contains the results produced from the 1000th iteration of the calculation. Take a look at it here;"
   ]
  },
  {
   "cell_type": "code",
   "execution_count": null,
   "metadata": {},
   "outputs": [],
   "source": [
    "!cat output/results_1000.log"
   ]
  },
  {
   "cell_type": "markdown",
   "metadata": {},
   "source": [
    "The file starts with the free energy calculated from the sampling performed at that iteration, e.g.\n",
    "\n",
    "```\n",
    "TOTAL   BOUND   FREE\n",
    "9.242028882051656   8.429372421087747   0.8126455425488016\n",
    "```\n",
    "\n",
    "This splits the total free energy into the contribution from the protein box (\"BOUND\") and the contribution from the water box (\"FREE\"). In this case it shows that most of the free energy change (8.4 out of 9.2 kcal mol-1) comes from the protein box, implying that the better binding of the first ligand is due to better binding to the protein, rather than worse solubility in water.\n",
    "\n",
    "After this, you can see free energy components for all of the residues that were within 15 A of the ligand, e.g.\n",
    "\n",
    "```\n",
    "RESIDUE    TOTAL    COULOMB    LJ\n",
    "Residue( GLY : 20 )  -0.012742424393825984  -0.013240892526853593  0.000498468121363155\n",
    "Residue( PRO : 21 )  -0.015963190385398996  -0.017642663239335596  0.0016794728670995566\n",
    "Residue( THR : 22 )  0.01800295185931415  0.016655386616117283  0.0013475652458333244\n",
    "Residue( LYS : 23 )  0.0009458762778542365  -0.0019099847235784365  0.002855860852005978\n",
    "```\n",
    "\n",
    "This shows that GLY20 has a tiny total contribution to the relative binding free energy of -0.01 kcal mol-1, which itself mostly comes from electrostatics (-0.01 kcal mol-1). The LJ contribution is even smaller, at 0.0005 kcal mol-1. This suggests that GLY20 is indifferent to whichever ligand is bound and so does not show any specificity to any ligand.\n",
    "\n",
    "In contrast, find TRP145 and VAL146.\n",
    "\n",
    "```\n",
    "Residue( TRP : 145 )  1.0876637142440664  -0.6939942179058599  1.7747044598731816\n",
    "Residue( VAL : 146 )  1.0336548161222636  0.5197159598051689  0.5139795375447672\n",
    "```\n",
    "\n",
    "These show larger free energy contributions. TRP145 is making about 1.1 kcal mol-1 contribution to the binding free energy. This is made up from -0.7 kcal mol-1 electrostatics and 1.8 kcal mol-1 LJ. This implies that replacing FM1 with CTI is overall favourable for TRP145 by +1.1 kcal mol-1. However, this masks that TRP145 has a stronger electrostatic interaction with CTI (by 0.7 kcal mol-1). The preference comes from a much weaker LJ interaction between TRP145 and CTI (by 1.8 kcal mol-1).\n",
    "\n",
    "In contrast, VAL146 binds FM1 more strongly than CTI (by 1.0 kcal mol-1), with both stronger electrostatic and LJ interactions.\n",
    "\n",
    "These values are taken from just one iteration from the simulation. Ideally we should average the components across all iterations that we class as \"production\" (so not discarded as equilibration). We can do this using a simple script.\n",
    "\n",
    "First, we import pandas and matplotlib for data handling and plotting, and then also import the Sire modules we need to calculate averages (in Sire.Maths), identify parts of molecules (in Sire.Mol) and load molecules from files (in Sire.IO)"
   ]
  },
  {
   "cell_type": "code",
   "execution_count": null,
   "metadata": {},
   "outputs": [],
   "source": [
    "import pandas as pd\n",
    "from pandas import Series, DataFrame\n",
    "import matplotlib.pyplot as plt\n",
    "%config InlineBackend.figure_format = 'svg'   # helps make things look better in Jupyter :-)\n",
    "\n",
    "import Sire.Maths\n",
    "import Sire.Mol\n",
    "import Sire.IO"
   ]
  },
  {
   "cell_type": "markdown",
   "metadata": {},
   "source": [
    "Next we set the range of iterations over which we want to average. We will use the last 60% again, so use iterations 400-1000"
   ]
  },
  {
   "cell_type": "code",
   "execution_count": null,
   "metadata": {},
   "outputs": [],
   "source": [
    "r = [400, 1000]"
   ]
  },
  {
   "cell_type": "markdown",
   "metadata": {},
   "source": [
    "We need to process the files from results_0400.log to results_1000.log. The below line generates a list of all of these filenames."
   ]
  },
  {
   "cell_type": "code",
   "execution_count": null,
   "metadata": {},
   "outputs": [],
   "source": [
    "filenames = [\"%s/results_%04d.log\" % (outdir,i) for i in range(r[0],r[1]+1)]"
   ]
  },
  {
   "cell_type": "markdown",
   "metadata": {},
   "source": [
    "The next cell defines a function that reads all of the results files and extracts the average energy components. These are placed into a pandas DataFrame for easier manipulation later..."
   ]
  },
  {
   "cell_type": "code",
   "execution_count": null,
   "metadata": {},
   "outputs": [],
   "source": [
    "def getComponents(filenames):\n",
    "    \"\"\"Read all of the residue-based free energy components from the log files produced\n",
    "       by a waterswap or ligandswap simulation (passed as a list of filenames). Return\n",
    "       the average components as a pandas DataFrame\"\"\"\n",
    "    avgs = {}\n",
    "    resids = {}\n",
    "    \n",
    "    # Loop over all of the files...\n",
    "    for filename in filenames:\n",
    "        has_started=False\n",
    "        for line in open(filename).readlines():\n",
    "            # Read from the line \"RESIDUE FREE ENERGY COMPONENTS\" onwards...\n",
    "            if line.find(\"RESIDUE FREE ENERGY COMPONENTS\") != -1:\n",
    "                has_started = True\n",
    "            \n",
    "            elif has_started:\n",
    "                words = line.split()\n",
    "                if len(words) == 8:\n",
    "                    resname = words[1]\n",
    "                    resnum = int(words[3])\n",
    "                    total = float(words[-3])\n",
    "                    coul = float(words[-2])\n",
    "                    lj = float(words[-1])\n",
    "                    key = \"%s:%s\" % (resname,resnum)\n",
    "                    \n",
    "                    if not key in avgs:\n",
    "                        avgs[key] = [Sire.Maths.Average(), Sire.Maths.Average(), Sire.Maths.Average()]\n",
    "                        if not resnum in resids:\n",
    "                            resids[resnum] = [resname]\n",
    "                        else:\n",
    "                            resids[resnum].append(resname)\n",
    "                    \n",
    "                    # accumulate the average total, coulomb and LJ free energies\n",
    "                    avgs[key][0].accumulate(total)\n",
    "                    avgs[key][1].accumulate(coul)\n",
    "                    avgs[key][2].accumulate(lj)\n",
    "                    \n",
    "                elif line.find(\"COMPONENTS\") != -1:\n",
    "                    break\n",
    "    \n",
    "    # Now sort the data into a pandas DataFrame\n",
    "    resnums = list(resids.keys())\n",
    "    resnums.sort()\n",
    "    resnams = []\n",
    "    total = []\n",
    "    coul = []\n",
    "    lj = []\n",
    "    \n",
    "    for resnum in resnums:\n",
    "        for resname in resids[resnum]:\n",
    "            key = \"%s:%s\" % (resname,resnum)\n",
    "            avg = avgs[key]\n",
    "            resnams.append(resname)\n",
    "            total.append(avg[0].average())\n",
    "            coul.append(avg[1].average())\n",
    "            lj.append(avg[2].average())\n",
    "    \n",
    "    # The data is in lists which can be put into pandas columns. We will index the \n",
    "    # DataFrame using the residue number (assuming that they are all unique)\n",
    "    return DataFrame( index = resnums,\n",
    "                      data = {\"name\" : resnams, \"total\" : total, \"coulomb\" : coul, \"LJ\" : lj},\n",
    "                      columns=[\"name\", \"total\", \"coulomb\", \"LJ\"] )"
   ]
  },
  {
   "cell_type": "markdown",
   "metadata": {},
   "source": [
    "Now use the above function to process all of the files and generate the pandas DataFrame..."
   ]
  },
  {
   "cell_type": "code",
   "execution_count": null,
   "metadata": {},
   "outputs": [],
   "source": [
    "components = getComponents(filenames)"
   ]
  },
  {
   "cell_type": "markdown",
   "metadata": {},
   "source": [
    "The components are in a pandas DataFrame, so can be manipulated using any of the pandas functions. For example, look at the first few rows using the 'head' function"
   ]
  },
  {
   "cell_type": "code",
   "execution_count": null,
   "metadata": {},
   "outputs": [],
   "source": [
    "components.head()"
   ]
  },
  {
   "cell_type": "markdown",
   "metadata": {},
   "source": [
    "There are components for all residues. Most of these are near zero, so it is a good idea to focus on those that are significant ( > 0.5 kcal mol-1 or < -0.5 kcal mol-1 )"
   ]
  },
  {
   "cell_type": "code",
   "execution_count": null,
   "metadata": {},
   "outputs": [],
   "source": [
    "components[ components.total.abs() > 0.5 ]"
   ]
  },
  {
   "cell_type": "markdown",
   "metadata": {},
   "source": [
    "You can even use matplotlib to plot these :-)"
   ]
  },
  {
   "cell_type": "code",
   "execution_count": null,
   "metadata": {},
   "outputs": [],
   "source": [
    "components[ components.total.abs() > 0.5 ].plot.bar()"
   ]
  },
  {
   "cell_type": "markdown",
   "metadata": {},
   "source": [
    "The analysis shows which residues are making a contribution to binding. A negative sign shows that the residue prefers to bind the second ligand (the ligand bound at lambda=1), while a positive sign shows that the residue prefers to bind the first ligand (the ligand bound at lambda=0).\n",
    "\n",
    "You can see that this analysis has highlighted TRP145 and VAL146 again. We can see that the analysis made from a single iteration above is confirmed by looking at the average free energy components. TRP145 is interesting as it electrostatically prefers CTI, but LJ prefers FM1 (as seen clearly in the graph above). This suggests that there is scope for better electrostatic targetting of TRP145 by modifying FM1.\n",
    "\n",
    "You can use these components to begin to gain insight into why ligandswap predicts that one ligand is better than another. If the relative binding free energy is negative (ligand at lambda=1 binds better than the ligand at lambda=0) then this will be because this ligand has stronger interactions with the residues, and so you should see lots of negative residue free energy components. Similarly, if you get a positive free energy, then you should see lots of large positive components. \n",
    "\n",
    "In this case, the free energy is positive, and we see that this is driven mostly by TRP145 and ILE322, which strongly prefer to bind the first ligand (FMC). The second ligand (CTI) is really only preferred by TYR193.\n",
    "\n",
    "The next step once you have identified residues is to look at the 3D structures sampled during the ligandswap calculation to see if you can understand from those why different residues have different preferences for the ligands. One way to help is to color-code residues based on the free energy components calculated above.\n",
    "\n",
    "First, we need to get one of the PDB structures output by the ligandswap calculation. By default the calculation writes PDB files every 50 iterations from the protein box and the water box at the closest lambda value to 0 (lambda=0.005) and the closest lambda value to 1 (0.995). The files are called\n",
    "\n",
    "* bound_mobile_XXXXX_YYYYY.pdb : the protein box files at iteration XXXXX and lambda value YYYYY, e.g. bound_mobile_001000_0.00500.pdb\n",
    "* free_mobile_XXXXX_YYYYY.pdb : the water box files at iteration XXXXX and lambda value YYYYY, e.g. free_mobile_000500_0.99500.pdb\n",
    "\n",
    "Note that, to save space, the files contain only the mobile atos in the simulation, so don't worry that they look like a ball and most of the protein and water is missing. The fixed atoms are in the simulation, they just aren't written to these files. \n",
    "\n",
    "To color-code the residues, we first need to read one of the protein-box files..."
   ]
  },
  {
   "cell_type": "code",
   "execution_count": null,
   "metadata": {},
   "outputs": [],
   "source": [
    "system = Sire.IO.MoleculeParser.read(\"%s/bound_mobile_001000_0.00500.pdb\" % outdir)"
   ]
  },
  {
   "cell_type": "markdown",
   "metadata": {},
   "source": [
    "Here is a function that colour-codes the protein(s) based on the passed pandas DataFrame"
   ]
  },
  {
   "cell_type": "code",
   "execution_count": null,
   "metadata": {},
   "outputs": [],
   "source": [
    "def colourProtein(s, data, column):\n",
    "    \"\"\"Colour-code the proteins in the passed system using the data contained in the passed dataframe, using the\n",
    "       specified column\"\"\"\n",
    "    \n",
    "    # first find the maximum absolute value - we will scale linearly from there\n",
    "    vals = data[column]\n",
    "    maxval = vals.abs().max()\n",
    "    \n",
    "    # now, find all proteins in the system\n",
    "    molnums = Sire.Mol.MolWithResID(Sire.Mol.ResName(\"ALA\")).map(s)\n",
    "    \n",
    "    for molnum in molnums:\n",
    "        protein = s[molnum]\n",
    "    \n",
    "        # now create an AtomFloatProperty that will contain a number for each atom\n",
    "        # in each residue. This will be from 0-100, with 0 representing -maxval, \n",
    "        # 50 representing 0 and 100 representing maxval\n",
    "        betas = Sire.Mol.AtomFloatProperty(protein, 50.0)\n",
    "    \n",
    "        for x in data.index:\n",
    "            resnum = Sire.Mol.ResNum(int(x))\n",
    "            resnam = Sire.Mol.ResName(data.name[x])\n",
    "            value = vals[x]\n",
    "        \n",
    "            scaled = 50.0 + 50.0*(value/maxval)\n",
    "        \n",
    "            # issues with beta mean it must lie between 0 and 99.99\n",
    "            if scaled < 0:\n",
    "                scaled = 0.0\n",
    "            elif scaled > 99.99:\n",
    "                scaled = 99.99\n",
    "          \n",
    "            try:\n",
    "                residue = protein[ resnam + resnum ]\n",
    "        \n",
    "                for atom in residue.atoms():\n",
    "                    betas.set(atom.cgAtomIdx(), scaled)\n",
    "            except:\n",
    "                pass\n",
    "            \n",
    "        # Set the 'beta_factor' property as this is the name used for the 'beta_factor'\n",
    "        # value by the PDB writer\n",
    "        protein = protein.edit().setProperty(\"beta_factor\", betas).commit()\n",
    "    \n",
    "        # save the updated protein in the system\n",
    "        s.update(protein)\n",
    "        \n",
    "    # return the updated system\n",
    "    return s"
   ]
  },
  {
   "cell_type": "markdown",
   "metadata": {},
   "source": [
    "We will use this function to update the protein by colouring it using the \"beta\" property from the \"total\" free energy components."
   ]
  },
  {
   "cell_type": "code",
   "execution_count": null,
   "metadata": {},
   "outputs": [],
   "source": [
    "system = colourProtein(system, components, \"total\")"
   ]
  },
  {
   "cell_type": "markdown",
   "metadata": {},
   "source": [
    "Finally, we write this system out to a PDB file that you can load into any molecular visualiser"
   ]
  },
  {
   "cell_type": "code",
   "execution_count": null,
   "metadata": {},
   "outputs": [],
   "source": [
    "Sire.IO.MoleculeParser.write(system, \"colourcoded.pdb\")"
   ]
  },
  {
   "cell_type": "markdown",
   "metadata": {},
   "source": [
    "You can now download this PDB file using the Jupyter interface. Load it into a molecular viewer, for example VMD. Select the protein and colour it by beta factor. You should see the residues that contribute strongly to the binding free energy highlighted in the 3D view. For example, here is the view I've made using VMD...\n",
    "\n",
    "![Colour-coded protein](images/aligned.jpg)"
   ]
  },
  {
   "cell_type": "code",
   "execution_count": null,
   "metadata": {},
   "outputs": [],
   "source": []
  }
 ],
 "metadata": {
  "kernelspec": {
   "display_name": "Python 3",
   "language": "python",
   "name": "python3"
  },
  "language_info": {
   "codemirror_mode": {
    "name": "ipython",
    "version": 3
   },
   "file_extension": ".py",
   "mimetype": "text/x-python",
   "name": "python",
   "nbconvert_exporter": "python",
   "pygments_lexer": "ipython3",
   "version": "3.5.2"
  }
 },
 "nbformat": 4,
 "nbformat_minor": 2
}
