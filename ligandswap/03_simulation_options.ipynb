{
 "cells": [
  {
   "cell_type": "markdown",
   "metadata": {},
   "source": [
    "# Simulation Options\n",
    "\n",
    "By default ligandswap performs the calculation using 1000 iterations of 50,000 moves over 16 λ windows. This is normally sufficient to converge the free energy.\n",
    "\n",
    "You can pass in your own options using a config file. This should be a text file that specifies each option one per line, in the format `option = value`. Here is an example config file that says that ligandswap should only run 5 iterations of 5000 moves per iteration.\n",
    "\n",
    "```\n",
    "nmoves = 5\n",
    "nsubmoves = 10\n",
    "```\n",
    "\n",
    "You can get the names and default values of all options by using the `--help-config` option of ligandswap."
   ]
  },
  {
   "cell_type": "code",
   "execution_count": null,
   "metadata": {},
   "outputs": [],
   "source": [
    "! $SIRE/bin/ligandswap --help-config"
   ]
  },
  {
   "cell_type": "markdown",
   "metadata": {},
   "source": [
    "For example, above you can see that \n",
    "\n",
    "```\n",
    "nmoves = 1000\n",
    "Number of RETI moves to perform during the simulation.\n",
    "\n",
    "nsubmoves = 50000\n",
    "The number of moves to perform between each RETI move.\n",
    "\n",
    "nequilmoves = 50000\n",
    "Number of equilibration moves to perform before setting up the free energy simulation.\n",
    "```\n",
    "\n",
    "meaning that, by default, a default ligandswap calculation will involve 50,000 Monte Carlo moves of equilibration, followed by 1000 iterations of 16 replicas, each being sampled using 50,000 moves per iteration. This is over 800 million Monte Carlo moves in total!\n",
    "\n",
    "As you can also see, there are many other configuration options that can be used to control a ligandswap calculation. For example, the default cutoff for the coulomb electrostatics calculation is 15 angstroms, as set here;\n",
    "\n",
    "```\n",
    "coulomb cutoff = 15 angstrom\n",
    "```\n",
    "\n",
    "You can change this to be just 10 angstroms by adding the following line to the config file;\n",
    "\n",
    "```\n",
    "coulomb cutoff = 15*angstrom\n",
    "```\n",
    "\n",
    "Note that, when an option has a unit, you must add a * to multiply the value by the unit. ligandswap is not (yet) clever enough to do this for you :-(\n",
    "\n",
    "If you want to use your own config file, then you pass it in using the `-C` option, e.g.\n",
    "\n",
    "```\n",
    "$SIRE/bin/ligandswap -t0 rec_fmc.top -c0 fmc.30.crd -l0 FM1 -t1 rec_cti.top -c1 cti.30.crd -l1 CTI -C config\n",
    "```\n",
    "\n",
    "Commonly changed options can also be set on the command line. You can see how to do this by using the `--help` option, e.g.\n"
   ]
  },
  {
   "cell_type": "code",
   "execution_count": null,
   "metadata": {},
   "outputs": [],
   "source": [
    "! $SIRE/bin/ligandswap --help"
   ]
  },
  {
   "cell_type": "code",
   "execution_count": null,
   "metadata": {},
   "outputs": [],
   "source": []
  }
 ],
 "metadata": {
  "kernelspec": {
   "display_name": "Python 3",
   "language": "python",
   "name": "python3"
  },
  "language_info": {
   "codemirror_mode": {
    "name": "ipython",
    "version": 3
   },
   "file_extension": ".py",
   "mimetype": "text/x-python",
   "name": "python",
   "nbconvert_exporter": "python",
   "pygments_lexer": "ipython3",
   "version": "3.5.3"
  }
 },
 "nbformat": 4,
 "nbformat_minor": 2
}
